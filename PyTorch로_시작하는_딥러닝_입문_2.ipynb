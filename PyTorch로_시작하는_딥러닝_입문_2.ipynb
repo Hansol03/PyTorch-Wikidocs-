{
  "nbformat": 4,
  "nbformat_minor": 0,
  "metadata": {
    "colab": {
      "provenance": [],
      "collapsed_sections": [],
      "authorship_tag": "ABX9TyNN9BHclU3IFXq+d6/siNbb",
      "include_colab_link": true
    },
    "kernelspec": {
      "name": "python3",
      "display_name": "Python 3"
    },
    "language_info": {
      "name": "python"
    },
    "gpuClass": "standard"
  },
  "cells": [
    {
      "cell_type": "markdown",
      "metadata": {
        "id": "view-in-github",
        "colab_type": "text"
      },
      "source": [
        "<a href=\"https://colab.research.google.com/github/Hansol03/PyTorch-Wikidocs-/blob/main/PyTorch%EB%A1%9C_%EC%8B%9C%EC%9E%91%ED%95%98%EB%8A%94_%EB%94%A5%EB%9F%AC%EB%8B%9D_%EC%9E%85%EB%AC%B8_2.ipynb\" target=\"_parent\"><img src=\"https://colab.research.google.com/assets/colab-badge.svg\" alt=\"Open In Colab\"/></a>"
      ]
    },
    {
      "cell_type": "markdown",
      "source": [
        "### **03. 선형 회귀(Linear Regression)**"
      ],
      "metadata": {
        "id": "UhIp3GHswNoO"
      }
    },
    {
      "cell_type": "code",
      "execution_count": null,
      "metadata": {
        "id": "Z0juPvthwJlg"
      },
      "outputs": [],
      "source": [
        "# 1. 기본 셋팅\n",
        "import torch \n",
        "import torch.nn as nn \n",
        "import torch.nn.functional as F \n",
        "import torch.optim as optim "
      ]
    },
    {
      "cell_type": "code",
      "source": [
        "# 현재 실습하고 있는 파이썬 코드를 재실행해도 다음에도 같은 결과가 나오도록 랜덤 시드(random seed)를 줍니다. \n",
        "torch.manual_seed(1) "
      ],
      "metadata": {
        "colab": {
          "base_uri": "https://localhost:8080/"
        },
        "id": "FitgrQcLzN2F",
        "outputId": "423b174f-60dc-426e-ee7e-cb72cf659354"
      },
      "execution_count": null,
      "outputs": [
        {
          "output_type": "execute_result",
          "data": {
            "text/plain": [
              "<torch._C.Generator at 0x7f1127723330>"
            ]
          },
          "metadata": {},
          "execution_count": 5
        }
      ]
    },
    {
      "cell_type": "code",
      "source": [
        "# 2. 변수 선언 \n",
        "x_train = torch.FloatTensor([[1], [2], [3]]) \n",
        "y_train = torch.FloatTensor([[2], [4], [6]]) "
      ],
      "metadata": {
        "id": "3UauJZAOzaKx"
      },
      "execution_count": null,
      "outputs": []
    },
    {
      "cell_type": "code",
      "source": [
        "print(x_train) \n",
        "print(x_train.shape)"
      ],
      "metadata": {
        "colab": {
          "base_uri": "https://localhost:8080/"
        },
        "id": "7r2L-VzCzvoa",
        "outputId": "754e4553-f01e-4a52-9d6d-bbf528e054ea"
      },
      "execution_count": null,
      "outputs": [
        {
          "output_type": "stream",
          "name": "stdout",
          "text": [
            "tensor([[1.],\n",
            "        [2.],\n",
            "        [3.]])\n",
            "torch.Size([3, 1])\n"
          ]
        }
      ]
    },
    {
      "cell_type": "code",
      "source": [
        "print(y_train) \n",
        "print(y_train.shape) "
      ],
      "metadata": {
        "colab": {
          "base_uri": "https://localhost:8080/"
        },
        "id": "-fS0xpZqzy8H",
        "outputId": "b2deef03-8ecd-403b-81d6-2ca0bfda4fb0"
      },
      "execution_count": null,
      "outputs": [
        {
          "output_type": "stream",
          "name": "stdout",
          "text": [
            "tensor([[2.],\n",
            "        [4.],\n",
            "        [6.]])\n",
            "torch.Size([3, 1])\n"
          ]
        }
      ]
    },
    {
      "cell_type": "code",
      "source": [
        "# 3. 가중치와 편향의 초기화 \n",
        "# 가중치 W를 0으로 초기화하고 학습을 통해 값이 변경되는 변수임을 명시\n",
        "W = torch.zeros(1, requires_grad=True) \n",
        "# 가중치 W 출력 \n",
        "print(W)\n",
        "\n",
        "# requires_grad=True는 변수가 학습을 통해 계속 값이 변경되는 변수임을 의미 \n",
        "# 텐서에는 requires_grad 를 True로 설정하면 자동 미분 기능이 적용됨. \n",
        "# 이게 적용된 텐서에 연산을 하면 계산 그래프가 생성되며 backward 함수 호출하면 그래프로부터 자동으로 미분 계산 "
      ],
      "metadata": {
        "colab": {
          "base_uri": "https://localhost:8080/"
        },
        "id": "9jtWJDwuz6tQ",
        "outputId": "04a54576-71b3-4232-f033-1d92f0032083"
      },
      "execution_count": null,
      "outputs": [
        {
          "output_type": "stream",
          "name": "stdout",
          "text": [
            "tensor([0.], requires_grad=True)\n"
          ]
        }
      ]
    },
    {
      "cell_type": "code",
      "source": [
        "b = torch.zeros(1, requires_grad=True) \n",
        "print(b)"
      ],
      "metadata": {
        "colab": {
          "base_uri": "https://localhost:8080/"
        },
        "id": "nSu21itP0W99",
        "outputId": "50bfb335-16cd-4958-88bf-d60f511aebde"
      },
      "execution_count": null,
      "outputs": [
        {
          "output_type": "stream",
          "name": "stdout",
          "text": [
            "tensor([0.], requires_grad=True)\n"
          ]
        }
      ]
    },
    {
      "cell_type": "code",
      "source": [
        "# 4. 가설 세우기 \n",
        "hypothesis = x_train * W + b \n",
        "print(hypothesis)"
      ],
      "metadata": {
        "colab": {
          "base_uri": "https://localhost:8080/"
        },
        "id": "euA7UjPA0lwo",
        "outputId": "f7aa3a67-9641-462c-e8ae-39172272765a"
      },
      "execution_count": null,
      "outputs": [
        {
          "output_type": "stream",
          "name": "stdout",
          "text": [
            "tensor([[0.],\n",
            "        [0.],\n",
            "        [0.]], grad_fn=<AddBackward0>)\n"
          ]
        }
      ]
    },
    {
      "cell_type": "code",
      "source": [
        "# 5. cost function 선언하기 \n",
        "# 선형회귀 비용함수인 평균제곱오차 선언 \n",
        "# 앞서 배운 torch.mean으로 평균을 구한다 \n",
        "cost = torch.mean((hypothesis - y_train)**2) \n",
        "print(cost)"
      ],
      "metadata": {
        "colab": {
          "base_uri": "https://localhost:8080/"
        },
        "id": "MalUlsya0vHc",
        "outputId": "cabe562d-7db2-4bfe-f11b-e2e9275793ae"
      },
      "execution_count": null,
      "outputs": [
        {
          "output_type": "stream",
          "name": "stdout",
          "text": [
            "tensor(18.6667, grad_fn=<MeanBackward0>)\n"
          ]
        }
      ]
    },
    {
      "cell_type": "code",
      "source": [
        "# 6. 경사 하강법 구현하기 \n",
        "optimizer = optim.SGD([W, b], lr=0.01)"
      ],
      "metadata": {
        "id": "xIwiRwf91ALi"
      },
      "execution_count": null,
      "outputs": []
    },
    {
      "cell_type": "code",
      "source": [
        "# gradient를 0으로 초기화 \n",
        "optimizer.zero_grad() \n",
        "# 비용함수를 미분하여 gradient 계산 \n",
        "cost.backward() \n",
        "# W와 b를 업데이트 \n",
        "optimizer.step() "
      ],
      "metadata": {
        "id": "Nd1T6yet1M0m"
      },
      "execution_count": null,
      "outputs": []
    },
    {
      "cell_type": "code",
      "source": [
        "# 7. 전체 코드 \n",
        "\n",
        "# 데이터 \n",
        "x_train = torch.FloatTensor([[1], [2], [3]]) \n",
        "y_train = torch.FloatTensor([[2], [4], [6]]) \n",
        "# 모델 초기화 \n",
        "W = torch.zeros(1, requires_grad=True) \n",
        "b = torch.zeros(1, requires_grad=True) \n",
        "# optimizer 설정 \n",
        "optimizer = optim.SGD([W, b], lr=0.01) \n",
        "\n",
        "nb_epochs = 1999 # 원하는만큼 경사 하강법을 반복 \n",
        "for epoch in range(nb_epochs +1): \n",
        "\n",
        "    # H(x) 계산\n",
        "    hypothesis = x_train * W + b \n",
        "\n",
        "    # cost 계산 \n",
        "    cost = torch.mean((hypothesis - y_train) **2) \n",
        "\n",
        "    # cost로 H(x) 개선 \n",
        "    optimizer.zero_grad() \n",
        "    cost.backward() \n",
        "    optimizer.step() \n",
        "\n",
        "    # 100번마다 로그 출력 \n",
        "    if epoch % 100 ==0: \n",
        "        print('Epoch {:4d}/{} W: {:.3f}, b: {:.3f} Cost: {:.6f}'.format(\n",
        "            epoch, nb_epochs, W.item(), b.item(), cost.item()\n",
        "        ))"
      ],
      "metadata": {
        "colab": {
          "base_uri": "https://localhost:8080/"
        },
        "id": "6RSqcRqQ2P7H",
        "outputId": "63953e0b-a125-490c-b6c8-e415b3eea6f1"
      },
      "execution_count": null,
      "outputs": [
        {
          "output_type": "stream",
          "name": "stdout",
          "text": [
            "Epoch    0/1999 W: 0.187, b: 0.080 Cost: 18.666666\n",
            "Epoch  100/1999 W: 1.746, b: 0.578 Cost: 0.048171\n",
            "Epoch  200/1999 W: 1.800, b: 0.454 Cost: 0.029767\n",
            "Epoch  300/1999 W: 1.843, b: 0.357 Cost: 0.018394\n",
            "Epoch  400/1999 W: 1.876, b: 0.281 Cost: 0.011366\n",
            "Epoch  500/1999 W: 1.903, b: 0.221 Cost: 0.007024\n",
            "Epoch  600/1999 W: 1.924, b: 0.174 Cost: 0.004340\n",
            "Epoch  700/1999 W: 1.940, b: 0.136 Cost: 0.002682\n",
            "Epoch  800/1999 W: 1.953, b: 0.107 Cost: 0.001657\n",
            "Epoch  900/1999 W: 1.963, b: 0.084 Cost: 0.001024\n",
            "Epoch 1000/1999 W: 1.971, b: 0.066 Cost: 0.000633\n",
            "Epoch 1100/1999 W: 1.977, b: 0.052 Cost: 0.000391\n",
            "Epoch 1200/1999 W: 1.982, b: 0.041 Cost: 0.000242\n",
            "Epoch 1300/1999 W: 1.986, b: 0.032 Cost: 0.000149\n",
            "Epoch 1400/1999 W: 1.989, b: 0.025 Cost: 0.000092\n",
            "Epoch 1500/1999 W: 1.991, b: 0.020 Cost: 0.000057\n",
            "Epoch 1600/1999 W: 1.993, b: 0.016 Cost: 0.000035\n",
            "Epoch 1700/1999 W: 1.995, b: 0.012 Cost: 0.000022\n",
            "Epoch 1800/1999 W: 1.996, b: 0.010 Cost: 0.000013\n",
            "Epoch 1900/1999 W: 1.997, b: 0.008 Cost: 0.000008\n"
          ]
        }
      ]
    },
    {
      "cell_type": "code",
      "source": [
        "# 5. optimizer.zero_grad()가 필요한 이유 \n",
        "# 파이토치는 미분을 통해 얻은 기울기를 이전에 계산된 기울기 값에 누적시키는 특징이 있기 때문에 \n",
        "\n",
        "import torch\n",
        "w =torch.tensor(2.0, requires_grad=True) \n",
        "\n",
        "nb_epochs = 20 \n",
        "for epoch in range(nb_epochs + 1): \n",
        "\n",
        "    z = 2*w \n",
        "\n",
        "    z.backward() \n",
        "    print('수식을 w로 미분한 값: {}'.format(w.grad)) "
      ],
      "metadata": {
        "colab": {
          "base_uri": "https://localhost:8080/"
        },
        "id": "ub9pxtCD3t6Y",
        "outputId": "9c816394-2810-4e60-e4ed-a4156b92b451"
      },
      "execution_count": null,
      "outputs": [
        {
          "output_type": "stream",
          "name": "stdout",
          "text": [
            "수식을 w로 미분한 값: 2.0\n",
            "수식을 w로 미분한 값: 4.0\n",
            "수식을 w로 미분한 값: 6.0\n",
            "수식을 w로 미분한 값: 8.0\n",
            "수식을 w로 미분한 값: 10.0\n",
            "수식을 w로 미분한 값: 12.0\n",
            "수식을 w로 미분한 값: 14.0\n",
            "수식을 w로 미분한 값: 16.0\n",
            "수식을 w로 미분한 값: 18.0\n",
            "수식을 w로 미분한 값: 20.0\n",
            "수식을 w로 미분한 값: 22.0\n",
            "수식을 w로 미분한 값: 24.0\n",
            "수식을 w로 미분한 값: 26.0\n",
            "수식을 w로 미분한 값: 28.0\n",
            "수식을 w로 미분한 값: 30.0\n",
            "수식을 w로 미분한 값: 32.0\n",
            "수식을 w로 미분한 값: 34.0\n",
            "수식을 w로 미분한 값: 36.0\n",
            "수식을 w로 미분한 값: 38.0\n",
            "수식을 w로 미분한 값: 40.0\n",
            "수식을 w로 미분한 값: 42.0\n"
          ]
        }
      ]
    },
    {
      "cell_type": "markdown",
      "source": [
        "#### **02. 자동미분**"
      ],
      "metadata": {
        "id": "uwjk3Ihj5wAf"
      }
    },
    {
      "cell_type": "code",
      "source": [
        "import torch "
      ],
      "metadata": {
        "id": "cGmdRwf04lRj"
      },
      "execution_count": null,
      "outputs": []
    },
    {
      "cell_type": "code",
      "source": [
        "# 값이 2인 임의의 스칼라 텐서 w 선언 \n",
        "w = torch.tensor(2.0, requires_grad=True) "
      ],
      "metadata": {
        "id": "h8huwPOy58vu"
      },
      "execution_count": null,
      "outputs": []
    },
    {
      "cell_type": "code",
      "source": [
        "y = w**2 \n",
        "z = 2*y + 5 "
      ],
      "metadata": {
        "id": "24QZdIvT6Gf9"
      },
      "execution_count": null,
      "outputs": []
    },
    {
      "cell_type": "code",
      "source": [
        "# w에 대해 미분. .backward()를 호출하면 해당 수식의 w에 대한 기울기 계산 \n",
        "z.backward() "
      ],
      "metadata": {
        "id": "-SyPIo1F6PwZ"
      },
      "execution_count": null,
      "outputs": []
    },
    {
      "cell_type": "code",
      "source": [
        "print('수식을 w로 미분한 값: {}'.format(w.grad)) "
      ],
      "metadata": {
        "colab": {
          "base_uri": "https://localhost:8080/"
        },
        "id": "jFpkbGPw6ZXt",
        "outputId": "6e5f3242-1cc4-463b-e390-6ecde904b957"
      },
      "execution_count": null,
      "outputs": [
        {
          "output_type": "stream",
          "name": "stdout",
          "text": [
            "수식을 w로 미분한 값: 8.0\n"
          ]
        }
      ]
    },
    {
      "cell_type": "markdown",
      "source": [
        "#### **03.다중 선형 회귀 (Multivariable Linear regression)**"
      ],
      "metadata": {
        "id": "DHflH9FgC725"
      }
    },
    {
      "cell_type": "code",
      "source": [
        "import torch \n",
        "import torch.nn as nn\n",
        "import torch.nn.functional as F \n",
        "import torch.optim as optim "
      ],
      "metadata": {
        "id": "tpwgScI564iQ"
      },
      "execution_count": null,
      "outputs": []
    },
    {
      "cell_type": "code",
      "source": [
        "torch.manual_seed(1) "
      ],
      "metadata": {
        "colab": {
          "base_uri": "https://localhost:8080/"
        },
        "id": "jy9eJRfgDiov",
        "outputId": "185441d7-784b-4298-e1f6-372485aa618d"
      },
      "execution_count": null,
      "outputs": [
        {
          "output_type": "execute_result",
          "data": {
            "text/plain": [
              "<torch._C.Generator at 0x7fb5b4d73290>"
            ]
          },
          "metadata": {},
          "execution_count": 2
        }
      ]
    },
    {
      "cell_type": "code",
      "source": [
        "# 훈련 데이터 \n",
        "x1_train = torch.FloatTensor([[73], [93], [89], [96], [73]]) \n",
        "x2_train = torch.FloatTensor([[80], [88], [91], [98], [66]]) \n",
        "x3_train = torch.FloatTensor([[75], [93], [90], [100], [70]]) \n",
        "y_train = torch.FloatTensor([[152], [185], [180], [196], [142]])  "
      ],
      "metadata": {
        "id": "oOR4SuyEDnlK"
      },
      "execution_count": null,
      "outputs": []
    },
    {
      "cell_type": "code",
      "source": [
        "# 가중치 w와 편향 b 초기화 \n",
        "w1 = torch.zeros(1, requires_grad=True) \n",
        "w2 = torch.zeros(1, requires_grad=True) \n",
        "w3 = torch.zeros(1, requires_grad=True) \n",
        "b = torch.zeros(1, requires_grad=True)"
      ],
      "metadata": {
        "id": "fyhg2n35EFPI"
      },
      "execution_count": null,
      "outputs": []
    },
    {
      "cell_type": "code",
      "source": [
        "# optimizer 설정 \n",
        "optimizer = optim.SGD([w1, w2, w3, b], lr=1e-5) \n",
        "\n",
        "nb_epochs = 1000\n",
        "for epoch in range(nb_epochs + 1): \n",
        "\n",
        "    # H(x) 계산 \n",
        "    hypothesis = x1_train * w1 + x2_train * w2 + x3_train * w3 + b \n",
        "\n",
        "    # cost 계산 \n",
        "    cost = torch.mean((hypothesis - y_train)**2) \n",
        "\n",
        "    # cost로 H(x) 개선 \n",
        "    optimizer.zero_grad() \n",
        "    cost.backward() \n",
        "    optimizer.step() \n",
        "\n",
        "    # 100번마다 로그 출력 \n",
        "    if epoch % 100 == 0:\n",
        "        print('Epoch {:4d}/{} w1: {:.3f} w2: {:.3f} w3: {:.3f} b: {:.3f} Cost: {:.6f}'.format(\n",
        "            epoch, nb_epochs, w1.item(), w2.item(), w3.item(), b.item(), cost.item() \n",
        "\n",
        "        ))"
      ],
      "metadata": {
        "colab": {
          "base_uri": "https://localhost:8080/"
        },
        "id": "lvyFTNONEZPc",
        "outputId": "a771365f-e2e0-4111-c83f-9a36f282aaad"
      },
      "execution_count": null,
      "outputs": [
        {
          "output_type": "stream",
          "name": "stdout",
          "text": [
            "Epoch    0/1000 w1: 0.294 w2: 0.294 w3: 0.297 b: 0.003 Cost: 29661.800781\n",
            "Epoch  100/1000 w1: 0.674 w2: 0.661 w3: 0.676 b: 0.008 Cost: 1.563628\n",
            "Epoch  200/1000 w1: 0.679 w2: 0.655 w3: 0.677 b: 0.008 Cost: 1.497595\n",
            "Epoch  300/1000 w1: 0.684 w2: 0.649 w3: 0.677 b: 0.008 Cost: 1.435044\n",
            "Epoch  400/1000 w1: 0.689 w2: 0.643 w3: 0.678 b: 0.008 Cost: 1.375726\n",
            "Epoch  500/1000 w1: 0.694 w2: 0.638 w3: 0.678 b: 0.009 Cost: 1.319507\n",
            "Epoch  600/1000 w1: 0.699 w2: 0.633 w3: 0.679 b: 0.009 Cost: 1.266222\n",
            "Epoch  700/1000 w1: 0.704 w2: 0.627 w3: 0.679 b: 0.009 Cost: 1.215703\n",
            "Epoch  800/1000 w1: 0.709 w2: 0.622 w3: 0.679 b: 0.009 Cost: 1.167810\n",
            "Epoch  900/1000 w1: 0.713 w2: 0.617 w3: 0.680 b: 0.009 Cost: 1.122429\n",
            "Epoch 1000/1000 w1: 0.718 w2: 0.613 w3: 0.680 b: 0.009 Cost: 1.079390\n"
          ]
        }
      ]
    },
    {
      "cell_type": "code",
      "source": [
        "# 4. 행렬 연산을 고려하여 파이토치로 구현하기 \n",
        "x_train = torch.FloatTensor([[73, 80, 75], \n",
        "                             [93, 88, 93], \n",
        "                             [89, 91, 80], \n",
        "                             [96, 98, 100], \n",
        "                             [73, 66, 70]]) \n",
        "y_train = torch.FloatTensor([[152], [185], [180], [196], [142]]) "
      ],
      "metadata": {
        "id": "5nMtdEcdFsQP"
      },
      "execution_count": null,
      "outputs": []
    },
    {
      "cell_type": "code",
      "source": [
        "print(x_train.shape) \n",
        "print(y_train.shape)"
      ],
      "metadata": {
        "colab": {
          "base_uri": "https://localhost:8080/"
        },
        "id": "J81feJjvHRnf",
        "outputId": "0e366c0b-7eed-45b0-a68a-70d6494355d9"
      },
      "execution_count": null,
      "outputs": [
        {
          "output_type": "stream",
          "name": "stdout",
          "text": [
            "torch.Size([5, 3])\n",
            "torch.Size([5, 1])\n"
          ]
        }
      ]
    },
    {
      "cell_type": "code",
      "source": [
        "# 가중치와 편향 선언 \n",
        "W = torch.zeros((3,1), requires_grad=True) \n",
        "b = torch.zeros(1, requires_grad=True) "
      ],
      "metadata": {
        "id": "kHIuq6vzHViz"
      },
      "execution_count": null,
      "outputs": []
    },
    {
      "cell_type": "code",
      "source": [
        "hypothesis = x_train.matmul(W) + b"
      ],
      "metadata": {
        "id": "fjUdcIclHgSR"
      },
      "execution_count": null,
      "outputs": []
    },
    {
      "cell_type": "code",
      "source": [
        "x_train = torch.FloatTensor([[73, 80, 75],\n",
        "                             [93, 88, 93],\n",
        "                             [89, 91, 80], \n",
        "                             [96, 98, 100], \n",
        "                             [73, 66, 70]]) \n",
        "y_train = torch.FloatTensor([[152], [185], [180], [196], [142]]) \n",
        "\n",
        "#모델 초기화 \n",
        "W = torch.zeros((3,1), requires_grad=True) \n",
        "b = torch.zeros(1, requires_grad=True) \n",
        "# optimizer 설정 \n",
        "optimizer = optim.SGD([W, b], lr=1e-5) \n",
        "\n",
        "nb_epochs = 20\n",
        "for epoch in range(nb_epochs + 1): \n",
        "\n",
        "    # H(x) 계산 \n",
        "    # 편향 b는 브로드 캐스팅되어 각 샘플에 더해집니다. \n",
        "    hypothesis = x_train.matmul(W) + b \n",
        "\n",
        "    # cost 계산 \n",
        "    cost = torch.mean((hypothesis - y_train)**2) \n",
        "\n",
        "    # cost로 H(x) 개선 \n",
        "    optimizer.zero_grad() \n",
        "    cost.backward() \n",
        "    optimizer.step() \n",
        "\n",
        "    print('Epoch {:4d}/{} hypothesis: {} Cost: {:.6f}'.format(\n",
        "        epoch, nb_epochs, hypothesis.squeeze().detach(), cost.item()\n",
        "    ))"
      ],
      "metadata": {
        "colab": {
          "base_uri": "https://localhost:8080/"
        },
        "id": "SIq8F9HLHm2s",
        "outputId": "c8f46d9c-385f-41a7-a51c-08a40436f333"
      },
      "execution_count": null,
      "outputs": [
        {
          "output_type": "stream",
          "name": "stdout",
          "text": [
            "Epoch    0/20 hypothesis: tensor([0., 0., 0., 0., 0.]) Cost: 29661.800781\n",
            "Epoch    1/20 hypothesis: tensor([66.7178, 80.1701, 76.1025, 86.0194, 61.1565]) Cost: 9537.694336\n",
            "Epoch    2/20 hypothesis: tensor([104.5421, 125.6208, 119.2478, 134.7862,  95.8280]) Cost: 3069.590088\n",
            "Epoch    3/20 hypothesis: tensor([125.9858, 151.3882, 143.7087, 162.4333, 115.4844]) Cost: 990.670288\n",
            "Epoch    4/20 hypothesis: tensor([138.1429, 165.9963, 157.5768, 178.1071, 126.6283]) Cost: 322.481873\n",
            "Epoch    5/20 hypothesis: tensor([145.0350, 174.2780, 165.4395, 186.9928, 132.9461]) Cost: 107.717064\n",
            "Epoch    6/20 hypothesis: tensor([148.9423, 178.9730, 169.8976, 192.0301, 136.5279]) Cost: 38.687496\n",
            "Epoch    7/20 hypothesis: tensor([151.1574, 181.6346, 172.4254, 194.8856, 138.5585]) Cost: 16.499043\n",
            "Epoch    8/20 hypothesis: tensor([152.4131, 183.1435, 173.8590, 196.5043, 139.7097]) Cost: 9.365656\n",
            "Epoch    9/20 hypothesis: tensor([153.1250, 183.9988, 174.6723, 197.4217, 140.3625]) Cost: 7.071114\n",
            "Epoch   10/20 hypothesis: tensor([153.5285, 184.4835, 175.1338, 197.9415, 140.7325]) Cost: 6.331847\n",
            "Epoch   11/20 hypothesis: tensor([153.7572, 184.7582, 175.3958, 198.2360, 140.9424]) Cost: 6.092532\n",
            "Epoch   12/20 hypothesis: tensor([153.8868, 184.9138, 175.5449, 198.4026, 141.0613]) Cost: 6.013817\n",
            "Epoch   13/20 hypothesis: tensor([153.9602, 185.0019, 175.6299, 198.4969, 141.1288]) Cost: 5.986785\n",
            "Epoch   14/20 hypothesis: tensor([154.0017, 185.0517, 175.6785, 198.5500, 141.1671]) Cost: 5.976325\n",
            "Epoch   15/20 hypothesis: tensor([154.0252, 185.0798, 175.7065, 198.5800, 141.1888]) Cost: 5.971208\n",
            "Epoch   16/20 hypothesis: tensor([154.0385, 185.0956, 175.7229, 198.5966, 141.2012]) Cost: 5.967835\n",
            "Epoch   17/20 hypothesis: tensor([154.0459, 185.1045, 175.7326, 198.6059, 141.2082]) Cost: 5.964969\n",
            "Epoch   18/20 hypothesis: tensor([154.0501, 185.1094, 175.7386, 198.6108, 141.2122]) Cost: 5.962291\n",
            "Epoch   19/20 hypothesis: tensor([154.0524, 185.1120, 175.7424, 198.6134, 141.2145]) Cost: 5.959664\n",
            "Epoch   20/20 hypothesis: tensor([154.0536, 185.1134, 175.7451, 198.6145, 141.2158]) Cost: 5.957089\n"
          ]
        }
      ]
    },
    {
      "cell_type": "markdown",
      "source": [
        "####**04. nn.Module로 구현하는 선형회귀**"
      ],
      "metadata": {
        "id": "qrX-uO5Vdv6Z"
      }
    },
    {
      "cell_type": "code",
      "source": [
        "import torch\n",
        "import torch.nn as nn \n",
        "import torch.nn.functional as F \n"
      ],
      "metadata": {
        "id": "jd-X53f3JKta"
      },
      "execution_count": null,
      "outputs": []
    },
    {
      "cell_type": "code",
      "source": [
        "torch.manual_seed(1) "
      ],
      "metadata": {
        "colab": {
          "base_uri": "https://localhost:8080/"
        },
        "id": "nF_-aJ2hgkWr",
        "outputId": "30a811ca-95f8-44ae-9512-87c0f6df07bb"
      },
      "execution_count": null,
      "outputs": [
        {
          "output_type": "execute_result",
          "data": {
            "text/plain": [
              "<torch._C.Generator at 0x7f2db3459390>"
            ]
          },
          "metadata": {},
          "execution_count": 2
        }
      ]
    },
    {
      "cell_type": "code",
      "source": [
        "# 데이터 \n",
        "x_train = torch.FloatTensor([[1], [2], [3]]) \n",
        "y_train = torch.FloatTensor([[2], [4] ,[6]]) "
      ],
      "metadata": {
        "id": "GN9lFzuYgmUI"
      },
      "execution_count": null,
      "outputs": []
    },
    {
      "cell_type": "code",
      "source": [
        "# 모델을 선언 및 초기화. 단순 선형 회귀이므로 Input_dim=1, output_dim =1. \n",
        "model =nn.Linear(1,1) "
      ],
      "metadata": {
        "id": "2UzxgO5lg0-N"
      },
      "execution_count": null,
      "outputs": []
    },
    {
      "cell_type": "code",
      "source": [
        "print(list(model.parameters())) "
      ],
      "metadata": {
        "colab": {
          "base_uri": "https://localhost:8080/"
        },
        "id": "AHs78jSig_P7",
        "outputId": "6e12db77-0053-4cb8-e3de-eec1cbe8e104"
      },
      "execution_count": null,
      "outputs": [
        {
          "output_type": "stream",
          "name": "stdout",
          "text": [
            "[Parameter containing:\n",
            "tensor([[0.5153]], requires_grad=True), Parameter containing:\n",
            "tensor([-0.4414], requires_grad=True)]\n"
          ]
        }
      ]
    },
    {
      "cell_type": "code",
      "source": [
        "# optimizer 설정. 경사 하강법 SGD를 사용하고 learning rate를 의미하는 lr은 0.01 \n",
        "optimizer = torch.optim.SGD(model.parameters(), lr=0.01)  "
      ],
      "metadata": {
        "id": "abKxo72PhI9L"
      },
      "execution_count": null,
      "outputs": []
    },
    {
      "cell_type": "code",
      "source": [
        "# 전체 훈련 데이터에 대해 경사 하강법을 2,000회 반복 \n",
        "nb_epochs = 2000\n",
        "for epoch in range(nb_epochs+1):\n",
        "\n",
        "    # H(x) 계산 \n",
        "    prediction = model(x_train) \n",
        "\n",
        "    # cost 계산 \n",
        "    cost = F.mse_loss(prediction, y_train)  # <== 파이토치에서 제공하는 평균 제곱 오차 함수 \n",
        "\n",
        "    # cost로 H(x) 개선하는 부분 \n",
        "    # gradient를 0으로 초기화 \n",
        "    optimizer.zero_grad() \n",
        "    # 비용 함수를 미분하여 gradient 계산 \n",
        "    cost.backward()  #backward 계산 \n",
        "    # W와 b를 업데이트 \n",
        "    optimizer.step() \n",
        "\n",
        "    if epoch % 100 == 0:\n",
        "    # 100번마다 로그 출력 \n",
        "        print('Epoch {:4d}/{} Cost: {:.6f}'.format(\n",
        "            epoch, nb_epochs, cost.item()\n",
        "        )) \n"
      ],
      "metadata": {
        "colab": {
          "base_uri": "https://localhost:8080/"
        },
        "id": "4Yw0-GjWiFBe",
        "outputId": "84014e73-d7b6-4bf8-97d1-3e35b47dcecf"
      },
      "execution_count": null,
      "outputs": [
        {
          "output_type": "stream",
          "name": "stdout",
          "text": [
            "Epoch    0/2000 Cost: 13.103541\n",
            "Epoch  100/2000 Cost: 0.002791\n",
            "Epoch  200/2000 Cost: 0.001724\n",
            "Epoch  300/2000 Cost: 0.001066\n",
            "Epoch  400/2000 Cost: 0.000658\n",
            "Epoch  500/2000 Cost: 0.000407\n",
            "Epoch  600/2000 Cost: 0.000251\n",
            "Epoch  700/2000 Cost: 0.000155\n",
            "Epoch  800/2000 Cost: 0.000096\n",
            "Epoch  900/2000 Cost: 0.000059\n",
            "Epoch 1000/2000 Cost: 0.000037\n",
            "Epoch 1100/2000 Cost: 0.000023\n",
            "Epoch 1200/2000 Cost: 0.000014\n",
            "Epoch 1300/2000 Cost: 0.000009\n",
            "Epoch 1400/2000 Cost: 0.000005\n",
            "Epoch 1500/2000 Cost: 0.000003\n",
            "Epoch 1600/2000 Cost: 0.000002\n",
            "Epoch 1700/2000 Cost: 0.000001\n",
            "Epoch 1800/2000 Cost: 0.000001\n",
            "Epoch 1900/2000 Cost: 0.000000\n",
            "Epoch 2000/2000 Cost: 0.000000\n"
          ]
        }
      ]
    },
    {
      "cell_type": "code",
      "source": [
        "# 임의의 입력 4를 선언 \n",
        "new_var = torch.FloatTensor([[4.0]]) \n",
        "# 입력한 값 4에 대해서 예측값 y를 리턴받아서 pred_y에 저장 \n",
        "pred_y = model(new_var) # forward 연산 \n",
        "# y = 2x 이므로 입력이 4라면 Y가 8에 가까운 값이 나와야 제대로 학습이 된것 \n",
        "print('훈련 후 입력이 4일때의 예측 값: ', pred_y)"
      ],
      "metadata": {
        "colab": {
          "base_uri": "https://localhost:8080/"
        },
        "id": "vRRULDfDl7bp",
        "outputId": "bd1b3d0e-43cc-4471-bc13-d7cb9c41c4f5"
      },
      "execution_count": null,
      "outputs": [
        {
          "output_type": "stream",
          "name": "stdout",
          "text": [
            "훈련 후 입력이 4일때의 예측 값:  tensor([[7.9989]], grad_fn=<AddmmBackward0>)\n"
          ]
        }
      ]
    },
    {
      "cell_type": "code",
      "source": [
        "print(list(model.parameters()))"
      ],
      "metadata": {
        "colab": {
          "base_uri": "https://localhost:8080/"
        },
        "id": "x8rEsTw3mY4J",
        "outputId": "e3e8c3ca-a81e-4a34-8219-0d62f997236a"
      },
      "execution_count": null,
      "outputs": [
        {
          "output_type": "stream",
          "name": "stdout",
          "text": [
            "[Parameter containing:\n",
            "tensor([[1.9994]], requires_grad=True), Parameter containing:\n",
            "tensor([0.0014], requires_grad=True)]\n"
          ]
        }
      ]
    },
    {
      "cell_type": "code",
      "source": [
        "# 2. 다중 선형 회귀 구현하기 \n",
        "import torch \n",
        "import torch.nn as nn \n",
        "import torch.nn.functional as F "
      ],
      "metadata": {
        "id": "fRWNBRC1mgC4"
      },
      "execution_count": null,
      "outputs": []
    },
    {
      "cell_type": "code",
      "source": [
        "torch.manual_seed(1) "
      ],
      "metadata": {
        "colab": {
          "base_uri": "https://localhost:8080/"
        },
        "id": "A5U7zhtVn4Lg",
        "outputId": "fd808c7f-9b0a-4e02-db0a-0ac1a2ce9859"
      },
      "execution_count": null,
      "outputs": [
        {
          "output_type": "execute_result",
          "data": {
            "text/plain": [
              "<torch._C.Generator at 0x7f2db3459390>"
            ]
          },
          "metadata": {},
          "execution_count": 25
        }
      ]
    },
    {
      "cell_type": "code",
      "source": [
        "# 데이터 \n",
        "x_train = torch.FloatTensor([[73, 80, 75], \n",
        "                             [93, 88, 93],\n",
        "                             [89, 91, 90],\n",
        "                             [96, 98, 100],\n",
        "                             [73, 66, 70]]) \n",
        "y_train = torch.FloatTensor([[152], [185], [180], [196], [142]]) "
      ],
      "metadata": {
        "id": "Jxhb9aK8n6nQ"
      },
      "execution_count": null,
      "outputs": []
    },
    {
      "cell_type": "code",
      "source": [
        "# 모델을 선언 및 초기회. 다중 선형 회귀이므로 input_dim=3, output_dim=1. \n",
        "model = nn.Linear(3,1) "
      ],
      "metadata": {
        "id": "bjWDXI1zot29"
      },
      "execution_count": null,
      "outputs": []
    },
    {
      "cell_type": "code",
      "source": [
        "print(list(model.parameters()))"
      ],
      "metadata": {
        "colab": {
          "base_uri": "https://localhost:8080/"
        },
        "id": "68xVPO-0o1_n",
        "outputId": "8bb3894d-be19-4d72-bf48-750283f3edb1"
      },
      "execution_count": null,
      "outputs": [
        {
          "output_type": "stream",
          "name": "stdout",
          "text": [
            "[Parameter containing:\n",
            "tensor([[ 0.2975, -0.2548, -0.1119]], requires_grad=True), Parameter containing:\n",
            "tensor([0.2710], requires_grad=True)]\n"
          ]
        }
      ]
    },
    {
      "cell_type": "code",
      "source": [
        "optimizer = torch.optim.SGD(model.parameters(), lr=1e-5)"
      ],
      "metadata": {
        "id": "UI1skaObpijP"
      },
      "execution_count": null,
      "outputs": []
    },
    {
      "cell_type": "code",
      "source": [
        "nb_epochs = 2000\n",
        "for epoch in range(nb_epochs+1): \n",
        "\n",
        "    # H(x) 계산 \n",
        "    prediction = model(x_train) \n",
        "    # model(x_train)은 model.forward(x_train) 와 동일함 \n",
        "\n",
        "    # cost 계산 \n",
        "    cost = F.mse_loss(prediction, y_train)  # <== 파이토치에서 제공하는 평균 제곱 오차 함수 \n",
        "\n",
        "    # cost로 H(x) 개선하는 부분\n",
        "    # gradient 0으로 초기화 \n",
        "    optimizer.zero_grad() \n",
        "    # 비용함수를 미분하여 gradient 계산\n",
        "    cost.backward() \n",
        "    # W와 b를 업데이트\n",
        "    optimizer.step() \n",
        "\n",
        "    if epoch % 100 == 0:\n",
        "        # 100번마다 로그 출력\n",
        "        print('Epoch {:4d}/{} Cost: {:.6f}'.format(\n",
        "            epoch, nb_epochs, cost.item()\n",
        "        ))\n"
      ],
      "metadata": {
        "colab": {
          "base_uri": "https://localhost:8080/"
        },
        "id": "uZBgWle2qFt7",
        "outputId": "184cd57f-06b8-4075-e05a-969010121ec2"
      },
      "execution_count": null,
      "outputs": [
        {
          "output_type": "stream",
          "name": "stdout",
          "text": [
            "Epoch    0/2000 Cost: 31667.597656\n",
            "Epoch  100/2000 Cost: 0.225993\n",
            "Epoch  200/2000 Cost: 0.223911\n",
            "Epoch  300/2000 Cost: 0.221941\n",
            "Epoch  400/2000 Cost: 0.220059\n",
            "Epoch  500/2000 Cost: 0.218271\n",
            "Epoch  600/2000 Cost: 0.216575\n",
            "Epoch  700/2000 Cost: 0.214950\n",
            "Epoch  800/2000 Cost: 0.213413\n",
            "Epoch  900/2000 Cost: 0.211952\n",
            "Epoch 1000/2000 Cost: 0.210560\n",
            "Epoch 1100/2000 Cost: 0.209232\n",
            "Epoch 1200/2000 Cost: 0.207967\n",
            "Epoch 1300/2000 Cost: 0.206761\n",
            "Epoch 1400/2000 Cost: 0.205619\n",
            "Epoch 1500/2000 Cost: 0.204522\n",
            "Epoch 1600/2000 Cost: 0.203484\n",
            "Epoch 1700/2000 Cost: 0.202485\n",
            "Epoch 1800/2000 Cost: 0.201542\n",
            "Epoch 1900/2000 Cost: 0.200635\n",
            "Epoch 2000/2000 Cost: 0.199769\n"
          ]
        }
      ]
    },
    {
      "cell_type": "code",
      "source": [
        "# 임의의 입력 [73, 80, 75] 를 선언\n",
        "new_var = torch.FloatTensor([[73, 80, 75]]) \n",
        "# 입력한한 값 [73, 80, 75]에 대해서 예측값 y를 리턴 받아서 pred_y에 저장\n",
        "pred_y = model(new_var) \n",
        "print('훈련 후 입력이 73, 80, 75일때의 예측값: ', pred_y) "
      ],
      "metadata": {
        "colab": {
          "base_uri": "https://localhost:8080/"
        },
        "id": "Dq93bkLgsDfb",
        "outputId": "a2d1d088-fd4e-4497-c170-d761c348276a"
      },
      "execution_count": null,
      "outputs": [
        {
          "output_type": "stream",
          "name": "stdout",
          "text": [
            "훈련 후 입력이 73, 80, 75일때의 예측값:  tensor([[151.2305]], grad_fn=<AddmmBackward0>)\n"
          ]
        }
      ]
    },
    {
      "cell_type": "code",
      "source": [
        "print(list(model.parameters())) "
      ],
      "metadata": {
        "colab": {
          "base_uri": "https://localhost:8080/"
        },
        "id": "Zlf0nOXIt04m",
        "outputId": "ad5e6daa-ebd7-4514-e2cd-b7e5008f11db"
      },
      "execution_count": null,
      "outputs": [
        {
          "output_type": "stream",
          "name": "stdout",
          "text": [
            "[Parameter containing:\n",
            "tensor([[0.9778, 0.4539, 0.5768]], requires_grad=True), Parameter containing:\n",
            "tensor([0.2802], requires_grad=True)]\n"
          ]
        }
      ]
    },
    {
      "cell_type": "markdown",
      "source": [
        "####**05.클래스로 파이토치 모델 구현하기**"
      ],
      "metadata": {
        "id": "mRo9lQyVvSf7"
      }
    },
    {
      "cell_type": "code",
      "source": [
        "# 1. 모델을 클래스로 구현하기 \n",
        "# 모델을 선언 및 초기화. 단순 선형 회귀이므로 input_dim=1, output+dim1. \n",
        "model = nn.Linear(1,1)"
      ],
      "metadata": {
        "id": "1sck6o3ht9N3"
      },
      "execution_count": null,
      "outputs": []
    },
    {
      "cell_type": "code",
      "source": [
        "class LinearRegressionModel(nn.Module): #torch.nn.Module을 상속받는 파이썬 클래스 \n",
        "    def __init__(self): \n",
        "        super().__init__() \n",
        "        self.linear = nn.Linear(1,1)  #단순 선형 회귀이므로 input_dim = 1, output_dim=1 \n",
        "\n",
        "    def forward(self, x): \n",
        "        return self.linear(x) "
      ],
      "metadata": {
        "id": "zUKZW8z4vkHd"
      },
      "execution_count": null,
      "outputs": []
    },
    {
      "cell_type": "code",
      "source": [
        "model = LinearRegressionModel()"
      ],
      "metadata": {
        "id": "weO13WZKv8vr"
      },
      "execution_count": null,
      "outputs": []
    },
    {
      "cell_type": "code",
      "source": [
        "# 모델을 선언 및 초기화. 다중 선형 회귀이므로 input_dim =3, output_dim=1\n",
        "model = nn.Linear(3,1) "
      ],
      "metadata": {
        "id": "eHMmqK8Xv-w_"
      },
      "execution_count": null,
      "outputs": []
    },
    {
      "cell_type": "code",
      "source": [
        "class MultivariateLinearRegressionModel(nn.Module): \n",
        "    def __init__(self):\n",
        "        super().__init__() \n",
        "        self.linear = nn.Linear(3,1)  #다중 선형 회귀이므로 input_dim=3, output_dim=1 \n",
        "\n",
        "    def forward(self, x): \n",
        "        return self.linear(x)"
      ],
      "metadata": {
        "id": "cHG-K9SBwOz0"
      },
      "execution_count": null,
      "outputs": []
    },
    {
      "cell_type": "code",
      "source": [
        "model = MultivariateLinearRegressionModel()"
      ],
      "metadata": {
        "id": "bzN4MHpwwkG0"
      },
      "execution_count": null,
      "outputs": []
    },
    {
      "cell_type": "code",
      "source": [
        "# 2. 단순 선형 회귀 클래스로 구현하기 \n",
        "import torch \n",
        "import torch.nn as nn \n",
        "import torch.nn.functional as F"
      ],
      "metadata": {
        "id": "uckZWlJZwqun"
      },
      "execution_count": null,
      "outputs": []
    },
    {
      "cell_type": "code",
      "source": [
        "torch.manual_seed(1) "
      ],
      "metadata": {
        "colab": {
          "base_uri": "https://localhost:8080/"
        },
        "id": "Vmwx-Z5Gw7Qr",
        "outputId": "07054cdc-ec12-464e-cda2-c58467d6ec13"
      },
      "execution_count": null,
      "outputs": [
        {
          "output_type": "execute_result",
          "data": {
            "text/plain": [
              "<torch._C.Generator at 0x7f2db3459390>"
            ]
          },
          "metadata": {},
          "execution_count": 45
        }
      ]
    },
    {
      "cell_type": "code",
      "source": [
        "# 데이터 \n",
        "x_train = torch.FloatTensor([[1], [2], [3]]) \n",
        "y_train = torch.FloatTensor([[2], [4], [6]]) "
      ],
      "metadata": {
        "id": "wNh-O0c1xFhr"
      },
      "execution_count": null,
      "outputs": []
    },
    {
      "cell_type": "code",
      "source": [
        "class LinearRegressionModel(nn.Module): \n",
        "    def __init__(self): \n",
        "        super().__init__() \n",
        "        self.linear = nn.Linear(1,1) \n",
        "\n",
        "    def forward(self, x): \n",
        "        return self.linear(x) "
      ],
      "metadata": {
        "id": "BoNCffQpxPTs"
      },
      "execution_count": null,
      "outputs": []
    },
    {
      "cell_type": "code",
      "source": [
        "model = LinearRegressionModel()"
      ],
      "metadata": {
        "id": "CWlWUQv_xgAc"
      },
      "execution_count": null,
      "outputs": []
    },
    {
      "cell_type": "code",
      "source": [
        "# optimizer 설정. 경사 하강법 SGD를 사용하고 learning rate를 의미하는 lr은 0.01 \n",
        "optimizer = torch.optim.SGD(model.parameters(), lr=0.01) "
      ],
      "metadata": {
        "id": "Erd0KLTcxiXU"
      },
      "execution_count": null,
      "outputs": []
    },
    {
      "cell_type": "code",
      "source": [
        "# 전체 훈련 데이터에 대해 경사 하강법을 2,000회 반복 \n",
        "nb_epochs = 2000\n",
        "for epoch in range(nb_epochs+1):\n",
        "\n",
        "    # H(x) 계산 \n",
        "    prediction = model(x_train) \n",
        "\n",
        "    # cost 계산 \n",
        "    cost = F.mse_loss(prediction, y_train)  # <== 파이토치에서 제공하는 평균 제곱 오차 함수 \n",
        "\n",
        "    # cost로 H(x) 개선하는 부분 \n",
        "    # gradient를 0으로 초기화 \n",
        "    optimizer.zero_grad() \n",
        "    # 비용 함수를 미분하여 gradient 계산 \n",
        "    cost.backward()  # backward 연산 \n",
        "    # W와 b를 업데이트 \n",
        "    optimizer.step() \n",
        "\n",
        "    if epoch % 100 == 0: \n",
        "    # 100번마다 로그 출력 \n",
        "        print('Epoch {:4d}/{} Cost: {:.6f}'.format(\n",
        "            epoch, nb_epochs, cost.item()\n",
        "        ))"
      ],
      "metadata": {
        "colab": {
          "base_uri": "https://localhost:8080/"
        },
        "id": "U3NfX-M7xuGa",
        "outputId": "2c5b48cd-5675-410a-d487-60a102833ff5"
      },
      "execution_count": null,
      "outputs": [
        {
          "output_type": "stream",
          "name": "stdout",
          "text": [
            "Epoch    0/2000 Cost: 13.103541\n",
            "Epoch  100/2000 Cost: 0.002791\n",
            "Epoch  200/2000 Cost: 0.001724\n",
            "Epoch  300/2000 Cost: 0.001066\n",
            "Epoch  400/2000 Cost: 0.000658\n",
            "Epoch  500/2000 Cost: 0.000407\n",
            "Epoch  600/2000 Cost: 0.000251\n",
            "Epoch  700/2000 Cost: 0.000155\n",
            "Epoch  800/2000 Cost: 0.000096\n",
            "Epoch  900/2000 Cost: 0.000059\n",
            "Epoch 1000/2000 Cost: 0.000037\n",
            "Epoch 1100/2000 Cost: 0.000023\n",
            "Epoch 1200/2000 Cost: 0.000014\n",
            "Epoch 1300/2000 Cost: 0.000009\n",
            "Epoch 1400/2000 Cost: 0.000005\n",
            "Epoch 1500/2000 Cost: 0.000003\n",
            "Epoch 1600/2000 Cost: 0.000002\n",
            "Epoch 1700/2000 Cost: 0.000001\n",
            "Epoch 1800/2000 Cost: 0.000001\n",
            "Epoch 1900/2000 Cost: 0.000000\n",
            "Epoch 2000/2000 Cost: 0.000000\n"
          ]
        }
      ]
    },
    {
      "cell_type": "code",
      "source": [
        "# 3. 다중 선형 회귀 클래스로 구현하기 \n",
        "import torch \n",
        "import torch.nn as nn \n",
        "import torch.nn.functional as F "
      ],
      "metadata": {
        "id": "oNRUHNIVy0Ms"
      },
      "execution_count": null,
      "outputs": []
    },
    {
      "cell_type": "code",
      "source": [
        "torch.manual_seed(1) "
      ],
      "metadata": {
        "colab": {
          "base_uri": "https://localhost:8080/"
        },
        "id": "7aw-8DvcziD-",
        "outputId": "02bf019e-e1a5-4dea-8fa5-3bdfcb930977"
      },
      "execution_count": null,
      "outputs": [
        {
          "output_type": "execute_result",
          "data": {
            "text/plain": [
              "<torch._C.Generator at 0x7f2db3459390>"
            ]
          },
          "metadata": {},
          "execution_count": 52
        }
      ]
    },
    {
      "cell_type": "code",
      "source": [
        "# 데이터\n",
        "x_train = torch.FloatTensor([[73, 80, 75],\n",
        "                             [93, 88, 93], \n",
        "                             [89, 91, 90], \n",
        "                             [96, 98, 100],\n",
        "                             [73, 66, 70]]) \n",
        "y_train = torch.FloatTensor([[152], [185], [180], [196], [142]]) "
      ],
      "metadata": {
        "id": "yTPX_IZ2zkDb"
      },
      "execution_count": null,
      "outputs": []
    },
    {
      "cell_type": "code",
      "source": [
        "class MultivariateLinearRegressionModel(nn.Module):\n",
        "    def __init__(self):\n",
        "        super().__init__() \n",
        "        self.linear = nn.Linear(3,1)  #다중 선형 회귀이므로 input_dim = 3, output_dim =1\n",
        "\n",
        "    def forward(self, x):\n",
        "        return self.linear(x)"
      ],
      "metadata": {
        "id": "9bQxj86oz-qb"
      },
      "execution_count": null,
      "outputs": []
    },
    {
      "cell_type": "code",
      "source": [
        "model = MultivariateLinearRegressionModel()"
      ],
      "metadata": {
        "id": "URtKDVV30QFe"
      },
      "execution_count": null,
      "outputs": []
    },
    {
      "cell_type": "code",
      "source": [
        "optimizer = torch.optim.SGD(model.parameters(), lr=1e-5)"
      ],
      "metadata": {
        "id": "g_gFelxO0SKa"
      },
      "execution_count": null,
      "outputs": []
    },
    {
      "cell_type": "code",
      "source": [
        "nb_epochs = 2000\n",
        "for epoch in range(nb_epochs+1): \n",
        "\n",
        "    # H(x) 계산 \n",
        "    prediction = model(x_train) \n",
        "    # model(x_train)은 model.forward(x_train)와 동일함 \n",
        "\n",
        "    # cost 계산 \n",
        "    cost = F.mse_loss(prediction, y_train)  # <== 파이토치에서 제공하는 평균 제곱 오차 함수 \n",
        "\n",
        "    # cost로 H(x) 개선하는 부분 \n",
        "    # gradient를 0으로 초기화 \n",
        "    optimizer.zero_grad() \n",
        "    # 비용 함수를 미분하여 gradient 계산 \n",
        "    cost.backward() \n",
        "    # W와 b를 업데이트 \n",
        "    optimizer.step() \n",
        "\n",
        "    if epoch % 100 == 0:\n",
        "    # 100번마다 로그 출력 \n",
        "        print('Epoch {:4d}/{} Cost: {:.6f}'.format(\n",
        "            epoch, nb_epochs, cost.item()\n",
        "        ))"
      ],
      "metadata": {
        "colab": {
          "base_uri": "https://localhost:8080/"
        },
        "id": "TBFqyn1C0Wjj",
        "outputId": "995d7ac2-c76d-463f-ef56-9ecf10ec87eb"
      },
      "execution_count": null,
      "outputs": [
        {
          "output_type": "stream",
          "name": "stdout",
          "text": [
            "Epoch    0/2000 Cost: 9926.265625\n",
            "Epoch  100/2000 Cost: 0.225971\n",
            "Epoch  200/2000 Cost: 0.223895\n",
            "Epoch  300/2000 Cost: 0.221921\n",
            "Epoch  400/2000 Cost: 0.220036\n",
            "Epoch  500/2000 Cost: 0.218253\n",
            "Epoch  600/2000 Cost: 0.216555\n",
            "Epoch  700/2000 Cost: 0.214939\n",
            "Epoch  800/2000 Cost: 0.213403\n",
            "Epoch  900/2000 Cost: 0.211942\n",
            "Epoch 1000/2000 Cost: 0.210548\n",
            "Epoch 1100/2000 Cost: 0.209220\n",
            "Epoch 1200/2000 Cost: 0.207956\n",
            "Epoch 1300/2000 Cost: 0.206755\n",
            "Epoch 1400/2000 Cost: 0.205603\n",
            "Epoch 1500/2000 Cost: 0.204509\n",
            "Epoch 1600/2000 Cost: 0.203470\n",
            "Epoch 1700/2000 Cost: 0.202474\n",
            "Epoch 1800/2000 Cost: 0.201530\n",
            "Epoch 1900/2000 Cost: 0.200628\n",
            "Epoch 2000/2000 Cost: 0.199762\n"
          ]
        }
      ]
    },
    {
      "cell_type": "code",
      "source": [],
      "metadata": {
        "id": "2AWN1XI41KOd"
      },
      "execution_count": null,
      "outputs": []
    }
  ]
}