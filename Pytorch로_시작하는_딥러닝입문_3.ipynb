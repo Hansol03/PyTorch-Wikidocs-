{
  "nbformat": 4,
  "nbformat_minor": 0,
  "metadata": {
    "colab": {
      "provenance": [],
      "collapsed_sections": [],
      "authorship_tag": "ABX9TyPXTO2EjDvzmNc1Scq3ZYWY",
      "include_colab_link": true
    },
    "kernelspec": {
      "name": "python3",
      "display_name": "Python 3"
    },
    "language_info": {
      "name": "python"
    },
    "gpuClass": "standard"
  },
  "cells": [
    {
      "cell_type": "markdown",
      "metadata": {
        "id": "view-in-github",
        "colab_type": "text"
      },
      "source": [
        "<a href=\"https://colab.research.google.com/github/Hansol03/PyTorch-Wikidocs-/blob/main/Pytorch%EB%A1%9C_%EC%8B%9C%EC%9E%91%ED%95%98%EB%8A%94_%EB%94%A5%EB%9F%AC%EB%8B%9D%EC%9E%85%EB%AC%B8_3.ipynb\" target=\"_parent\"><img src=\"https://colab.research.google.com/assets/colab-badge.svg\" alt=\"Open In Colab\"/></a>"
      ]
    },
    {
      "cell_type": "markdown",
      "source": [
        "#### **06. 미니 배치와 데이터 로드 (Mini Batch and Data Laod)**"
      ],
      "metadata": {
        "id": "PDfSJC6xsDSn"
      }
    },
    {
      "cell_type": "code",
      "execution_count": null,
      "metadata": {
        "id": "WHp7zgZ_q5SA"
      },
      "outputs": [],
      "source": [
        "# Data Load \n",
        "import torch \n",
        "import torch.nn as nn \n",
        "import torch.nn.functional as F \n",
        "\n",
        "from torch.utils.data import TensorDataset #텐서데이터셋 \n",
        "from torch.utils.data import DataLoader # 데이터로더 "
      ]
    },
    {
      "cell_type": "code",
      "source": [
        "x_train = torch.FloatTensor([[73, 80, 75],\n",
        "                             [93, 88, 93], \n",
        "                             [89, 91, 90], \n",
        "                             [96, 98, 100], \n",
        "                             [73, 66, 70]]) \n",
        "y_train = torch.FloatTensor([[152], [185], [180], [196], [142]]) "
      ],
      "metadata": {
        "id": "3mXm53dqsXK5"
      },
      "execution_count": null,
      "outputs": []
    },
    {
      "cell_type": "code",
      "source": [
        "dataset = TensorDataset(x_train, y_train)"
      ],
      "metadata": {
        "id": "Le6c0RWVsrf8"
      },
      "execution_count": null,
      "outputs": []
    },
    {
      "cell_type": "code",
      "source": [
        "dataloader = DataLoader(dataset, batch_size=2, shuffle=True) "
      ],
      "metadata": {
        "id": "f4nUlbW8sueZ"
      },
      "execution_count": null,
      "outputs": []
    },
    {
      "cell_type": "code",
      "source": [
        "model = nn.Linear(3,1) \n",
        "optimizer = torch.optim.SGD(model.parameters(), lr=1e-5) "
      ],
      "metadata": {
        "id": "lbDwapH3tCpa"
      },
      "execution_count": null,
      "outputs": []
    },
    {
      "cell_type": "code",
      "source": [
        "nb_epochs = 20 \n",
        "for epoch in range(nb_epochs + 1): \n",
        "    for batch_idx, samples in enumerate(dataloader):\n",
        "        #print(batch_idx) \n",
        "        #print(samples)\n",
        "        x_train, y_train = samples \n",
        "        #H(x) 계산 \n",
        "        prediction = model(x_train) \n",
        "\n",
        "        # cost 계산 \n",
        "        cost = F.mse_loss(prediction, y_train) \n",
        "\n",
        "        # cost로 H(x) 계산 \n",
        "        optimizer.zero_grad() \n",
        "        cost.backward() \n",
        "        optimizer.step() \n",
        "\n",
        "        print('Epoch {:4d}/{} Batch {}/{} Cost: {:.6f}'.format(\n",
        "            epoch, nb_epochs, batch_idx+1, len(dataloader),\n",
        "            cost.item()\n",
        "        ))\n"
      ],
      "metadata": {
        "colab": {
          "base_uri": "https://localhost:8080/"
        },
        "id": "ngsywAQftIzP",
        "outputId": "5b43a986-e962-435f-b81f-b56a940580ca"
      },
      "execution_count": null,
      "outputs": [
        {
          "output_type": "stream",
          "name": "stdout",
          "text": [
            "Epoch    0/20 Batch 1/3 Cost: 2.640546\n",
            "Epoch    0/20 Batch 2/3 Cost: 3.836225\n",
            "Epoch    0/20 Batch 3/3 Cost: 1.794200\n",
            "Epoch    1/20 Batch 1/3 Cost: 0.310652\n",
            "Epoch    1/20 Batch 2/3 Cost: 3.863421\n",
            "Epoch    1/20 Batch 3/3 Cost: 6.496836\n",
            "Epoch    2/20 Batch 1/3 Cost: 2.060493\n",
            "Epoch    2/20 Batch 2/3 Cost: 3.373023\n",
            "Epoch    2/20 Batch 3/3 Cost: 6.490148\n",
            "Epoch    3/20 Batch 1/3 Cost: 3.511216\n",
            "Epoch    3/20 Batch 2/3 Cost: 2.606114\n",
            "Epoch    3/20 Batch 3/3 Cost: 5.118478\n",
            "Epoch    4/20 Batch 1/3 Cost: 4.068647\n",
            "Epoch    4/20 Batch 2/3 Cost: 4.779073\n",
            "Epoch    4/20 Batch 3/3 Cost: 4.916759\n",
            "Epoch    5/20 Batch 1/3 Cost: 0.962671\n",
            "Epoch    5/20 Batch 2/3 Cost: 4.321543\n",
            "Epoch    5/20 Batch 3/3 Cost: 4.494703\n",
            "Epoch    6/20 Batch 1/3 Cost: 2.920201\n",
            "Epoch    6/20 Batch 2/3 Cost: 2.944795\n",
            "Epoch    6/20 Batch 3/3 Cost: 2.928508\n",
            "Epoch    7/20 Batch 1/3 Cost: 3.621426\n",
            "Epoch    7/20 Batch 2/3 Cost: 2.173815\n",
            "Epoch    7/20 Batch 3/3 Cost: 2.800220\n",
            "Epoch    8/20 Batch 1/3 Cost: 6.372620\n",
            "Epoch    8/20 Batch 2/3 Cost: 2.803736\n",
            "Epoch    8/20 Batch 3/3 Cost: 1.671768\n",
            "Epoch    9/20 Batch 1/3 Cost: 4.595886\n",
            "Epoch    9/20 Batch 2/3 Cost: 0.411130\n",
            "Epoch    9/20 Batch 3/3 Cost: 6.663497\n",
            "Epoch   10/20 Batch 1/3 Cost: 3.094856\n",
            "Epoch   10/20 Batch 2/3 Cost: 3.554506\n",
            "Epoch   10/20 Batch 3/3 Cost: 3.446899\n",
            "Epoch   11/20 Batch 1/3 Cost: 2.997987\n",
            "Epoch   11/20 Batch 2/3 Cost: 3.298174\n",
            "Epoch   11/20 Batch 3/3 Cost: 2.326770\n",
            "Epoch   12/20 Batch 1/3 Cost: 0.638754\n",
            "Epoch   12/20 Batch 2/3 Cost: 7.056888\n",
            "Epoch   12/20 Batch 3/3 Cost: 3.677609\n",
            "Epoch   13/20 Batch 1/3 Cost: 5.470059\n",
            "Epoch   13/20 Batch 2/3 Cost: 3.633869\n",
            "Epoch   13/20 Batch 3/3 Cost: 1.021230\n",
            "Epoch   14/20 Batch 1/3 Cost: 3.957568\n",
            "Epoch   14/20 Batch 2/3 Cost: 2.954646\n",
            "Epoch   14/20 Batch 3/3 Cost: 1.485128\n",
            "Epoch   15/20 Batch 1/3 Cost: 3.899041\n",
            "Epoch   15/20 Batch 2/3 Cost: 2.322140\n",
            "Epoch   15/20 Batch 3/3 Cost: 2.548314\n",
            "Epoch   16/20 Batch 1/3 Cost: 4.202421\n",
            "Epoch   16/20 Batch 2/3 Cost: 2.603902\n",
            "Epoch   16/20 Batch 3/3 Cost: 0.940192\n",
            "Epoch   17/20 Batch 1/3 Cost: 0.854037\n",
            "Epoch   17/20 Batch 2/3 Cost: 4.380214\n",
            "Epoch   17/20 Batch 3/3 Cost: 4.593126\n",
            "Epoch   18/20 Batch 1/3 Cost: 2.024649\n",
            "Epoch   18/20 Batch 2/3 Cost: 6.597167\n",
            "Epoch   18/20 Batch 3/3 Cost: 1.267892\n",
            "Epoch   19/20 Batch 1/3 Cost: 4.039100\n",
            "Epoch   19/20 Batch 2/3 Cost: 2.500385\n",
            "Epoch   19/20 Batch 3/3 Cost: 1.032517\n",
            "Epoch   20/20 Batch 1/3 Cost: 2.882984\n",
            "Epoch   20/20 Batch 2/3 Cost: 3.748706\n",
            "Epoch   20/20 Batch 3/3 Cost: 1.018333\n"
          ]
        }
      ]
    },
    {
      "cell_type": "code",
      "source": [
        "# 임의의 입력 [73, 80, 75] 를 선언 \n",
        "new_var = torch.FloatTensor([[73, 80, 75]]) \n",
        "# 입력한 값 [73, 80, 75]에 대해 예측값 y를 리턴받아서 pred_y에 저장 \n",
        "pred_y = model(new_var) \n",
        "print('훈련 후 입력이 73, 80, 75일 때 예측값 :', pred_y) "
      ],
      "metadata": {
        "colab": {
          "base_uri": "https://localhost:8080/"
        },
        "id": "GqAO1nYHtOwH",
        "outputId": "828f1830-b84d-4b82-b564-786937f392b4"
      },
      "execution_count": null,
      "outputs": [
        {
          "output_type": "stream",
          "name": "stdout",
          "text": [
            "훈련 후 입력이 73, 80, 75일 때 예측값 : tensor([[153.1046]], grad_fn=<AddmmBackward0>)\n"
          ]
        }
      ]
    },
    {
      "cell_type": "markdown",
      "source": [
        "####**07.커스텀 데이터셋(Custom Dataset)**"
      ],
      "metadata": {
        "id": "yIvWVilJvt-s"
      }
    },
    {
      "cell_type": "code",
      "source": [
        "#class CustomDataset(torch.utils.data.Dataset):\n",
        "#    def __init__(self): \n",
        "#    # 데이터셋의 전처리를 해주는 부분 \n",
        "\n",
        "#    def __len__(self): \n",
        "    # 데이터셋의 길이. 즉 총 샘플의 수를 적어주는 부분 \n",
        "\n",
        "#    def __getitem__(self, idx): \n",
        "    # 데이터셋에서 특정 1개의 샘플을 가져오는 함수 "
      ],
      "metadata": {
        "id": "Fnotpj5UvYhP"
      },
      "execution_count": null,
      "outputs": []
    },
    {
      "cell_type": "code",
      "source": [
        "import torch\n",
        "import torch.nn.functional as F \n",
        "\n",
        "from torch.utils.data import Dataset \n",
        "from torch.utils.data import DataLoader "
      ],
      "metadata": {
        "id": "IG7pnhWIwONV"
      },
      "execution_count": null,
      "outputs": []
    },
    {
      "cell_type": "code",
      "source": [
        "# Dataset 상속 \n",
        "class CustomDataset(Dataset): \n",
        "    def __init__(self): \n",
        "        self.x_data = [[73, 80, 75], \n",
        "                       [93, 88, 93],\n",
        "                       [89, 91, 90],\n",
        "                       [96, 98, 100],\n",
        "                       [73, 66, 70]]\n",
        "        self.y_data = [[152], [185], [180], [196], [142]]\n",
        "\n",
        "    # 총 데이터의 개수를 리턴 \n",
        "    def __len__(self): \n",
        "        return len(self.x_data) \n",
        "\n",
        "    # 인덱스를 입력받아 그에 매핑되는 입출력 데이터를 파이토치의 Tensor 형태로 리턴 \n",
        "    def __getitem__(self, idx): \n",
        "        x = torch.FloatTensor(self.x_data[idx])\n",
        "        y = torch.FloatTensor(self.y_data[idx]) \n",
        "        return x, y \n",
        "\n"
      ],
      "metadata": {
        "id": "PiM6dcHdxVI3"
      },
      "execution_count": null,
      "outputs": []
    },
    {
      "cell_type": "code",
      "source": [
        "dataset = CustomDataset() \n",
        "dataloader = DataLoader(dataset, batch_size=2, shuffle=True) "
      ],
      "metadata": {
        "id": "m6Q28hAWyLV_"
      },
      "execution_count": null,
      "outputs": []
    },
    {
      "cell_type": "code",
      "source": [
        "model = torch.nn.Linear(3,1) \n",
        "optimizer = torch.optim.SGD(model.parameters(), lr=1e-5) "
      ],
      "metadata": {
        "id": "Lfk5tNJ2yS3c"
      },
      "execution_count": null,
      "outputs": []
    },
    {
      "cell_type": "code",
      "source": [
        "nb_epochs = 20 \n",
        "for epoch in range(nb_epochs + 1): \n",
        "    for batch_idx, samples in enumerate(dataloader): \n",
        "        # print(batch_idx)\n",
        "        # print(samples) \n",
        "        x_train, y_train = samples \n",
        "        # H(x) 계산 \n",
        "        prediction = model(x_train) \n",
        "\n",
        "        # cost 계산 \n",
        "        cost = F.mse_loss(prediction, y_train) \n",
        "\n",
        "        # cost로 H(x) 계산 \n",
        "        optimizer.zero_grad() \n",
        "        cost.backward() \n",
        "        optimizer.step() \n",
        "\n",
        "        print('Epoch {:4d}/{} Batch {}/{} Cost: {:.6f}'.format(\n",
        "            epoch, nb_epochs, batch_idx+1, len(dataloader),\n",
        "            cost.item()\n",
        "        ))"
      ],
      "metadata": {
        "colab": {
          "base_uri": "https://localhost:8080/"
        },
        "id": "0h1USwMyyZL9",
        "outputId": "dc8c3dbe-9ba1-48ed-e969-ad06da23f1e2"
      },
      "execution_count": null,
      "outputs": [
        {
          "output_type": "stream",
          "name": "stdout",
          "text": [
            "Epoch    0/20 Batch 1/3 Cost: 10.398258\n",
            "Epoch    0/20 Batch 2/3 Cost: 7.864241\n",
            "Epoch    0/20 Batch 3/3 Cost: 8.088823\n",
            "Epoch    1/20 Batch 1/3 Cost: 10.234884\n",
            "Epoch    1/20 Batch 2/3 Cost: 7.027412\n",
            "Epoch    1/20 Batch 3/3 Cost: 8.474517\n",
            "Epoch    2/20 Batch 1/3 Cost: 5.704608\n",
            "Epoch    2/20 Batch 2/3 Cost: 10.111248\n",
            "Epoch    2/20 Batch 3/3 Cost: 3.940954\n",
            "Epoch    3/20 Batch 1/3 Cost: 9.597893\n",
            "Epoch    3/20 Batch 2/3 Cost: 4.036689\n",
            "Epoch    3/20 Batch 3/3 Cost: 11.195057\n",
            "Epoch    4/20 Batch 1/3 Cost: 7.496881\n",
            "Epoch    4/20 Batch 2/3 Cost: 6.449735\n",
            "Epoch    4/20 Batch 3/3 Cost: 6.741874\n",
            "Epoch    5/20 Batch 1/3 Cost: 10.318680\n",
            "Epoch    5/20 Batch 2/3 Cost: 3.273627\n",
            "Epoch    5/20 Batch 3/3 Cost: 12.077894\n",
            "Epoch    6/20 Batch 1/3 Cost: 6.296625\n",
            "Epoch    6/20 Batch 2/3 Cost: 7.609844\n",
            "Epoch    6/20 Batch 3/3 Cost: 7.291714\n",
            "Epoch    7/20 Batch 1/3 Cost: 11.277362\n",
            "Epoch    7/20 Batch 2/3 Cost: 4.432981\n",
            "Epoch    7/20 Batch 3/3 Cost: 4.309539\n",
            "Epoch    8/20 Batch 1/3 Cost: 1.751910\n",
            "Epoch    8/20 Batch 2/3 Cost: 8.173965\n",
            "Epoch    8/20 Batch 3/3 Cost: 17.604233\n",
            "Epoch    9/20 Batch 1/3 Cost: 5.770320\n",
            "Epoch    9/20 Batch 2/3 Cost: 7.536659\n",
            "Epoch    9/20 Batch 3/3 Cost: 9.564020\n",
            "Epoch   10/20 Batch 1/3 Cost: 1.288435\n",
            "Epoch   10/20 Batch 2/3 Cost: 11.978453\n",
            "Epoch   10/20 Batch 3/3 Cost: 9.093350\n",
            "Epoch   11/20 Batch 1/3 Cost: 8.046506\n",
            "Epoch   11/20 Batch 2/3 Cost: 9.379807\n",
            "Epoch   11/20 Batch 3/3 Cost: 5.891005\n",
            "Epoch   12/20 Batch 1/3 Cost: 6.112878\n",
            "Epoch   12/20 Batch 2/3 Cost: 7.461822\n",
            "Epoch   12/20 Batch 3/3 Cost: 9.744656\n",
            "Epoch   13/20 Batch 1/3 Cost: 10.783241\n",
            "Epoch   13/20 Batch 2/3 Cost: 4.969698\n",
            "Epoch   13/20 Batch 3/3 Cost: 2.006743\n",
            "Epoch   14/20 Batch 1/3 Cost: 2.077121\n",
            "Epoch   14/20 Batch 2/3 Cost: 11.370710\n",
            "Epoch   14/20 Batch 3/3 Cost: 8.749630\n",
            "Epoch   15/20 Batch 1/3 Cost: 9.947806\n",
            "Epoch   15/20 Batch 2/3 Cost: 3.769760\n",
            "Epoch   15/20 Batch 3/3 Cost: 7.324714\n",
            "Epoch   16/20 Batch 1/3 Cost: 10.072756\n",
            "Epoch   16/20 Batch 2/3 Cost: 6.142654\n",
            "Epoch   16/20 Batch 3/3 Cost: 1.855001\n",
            "Epoch   17/20 Batch 1/3 Cost: 0.955883\n",
            "Epoch   17/20 Batch 2/3 Cost: 17.565994\n",
            "Epoch   17/20 Batch 3/3 Cost: 8.779263\n",
            "Epoch   18/20 Batch 1/3 Cost: 10.868688\n",
            "Epoch   18/20 Batch 2/3 Cost: 4.992906\n",
            "Epoch   18/20 Batch 3/3 Cost: 1.898102\n",
            "Epoch   19/20 Batch 1/3 Cost: 14.105103\n",
            "Epoch   19/20 Batch 2/3 Cost: 7.761086\n",
            "Epoch   19/20 Batch 3/3 Cost: 2.556456\n",
            "Epoch   20/20 Batch 1/3 Cost: 1.305916\n",
            "Epoch   20/20 Batch 2/3 Cost: 21.079842\n",
            "Epoch   20/20 Batch 3/3 Cost: 2.902662\n"
          ]
        }
      ]
    },
    {
      "cell_type": "code",
      "source": [
        "# 임의의 입력 [73, 80, 75]를 선언 \n",
        "new_var = torch.FloatTensor([[73, 80, 75]]) \n",
        "# 입력한 값 [73, 80, 75]에 대해서 예측값 y를 리턴받아서 pred_y에 저장 \n",
        "pred_y = model(new_var) \n",
        "print('훈련 후 입력이 73, 80, 75일 때 예측값:', pred_y) "
      ],
      "metadata": {
        "colab": {
          "base_uri": "https://localhost:8080/"
        },
        "id": "P2Oi5YK7zCOW",
        "outputId": "9ac70574-84bd-4492-8ef5-0969aaa7c04f"
      },
      "execution_count": null,
      "outputs": [
        {
          "output_type": "stream",
          "name": "stdout",
          "text": [
            "훈련 후 입력이 73, 80, 75일 때 예측값: tensor([[154.0137]], grad_fn=<AddmmBackward0>)\n"
          ]
        }
      ]
    },
    {
      "cell_type": "markdown",
      "source": [
        "#### **07. 커스텀 데이터셋** "
      ],
      "metadata": {
        "id": "lU5NAtaUfATj"
      }
    },
    {
      "cell_type": "code",
      "source": [
        "# 1. 커스텀 데이터셋 (Custom Dataset)\n",
        "class CustomDataset(torch.utils.data.dataset): \n",
        "    def __init__(self): \n",
        "    # 데이터셋의 전처리를 해주는 부분 \n",
        "\n",
        "    def __len__(self):\n",
        "    # 데이터셋의 길이. 즉, 총 샘플의 수를 적어주는 부분 \n",
        "\n",
        "    def __getitem__(self, idx): \n",
        "    # 데이터셋에서 특정 1개의 샘플을 가져오는 함수 "
      ],
      "metadata": {
        "id": "_oNACwtb1gBM",
        "colab": {
          "base_uri": "https://localhost:8080/",
          "height": 130
        },
        "outputId": "853b7872-3596-478d-b9f9-1c7897f08dcd"
      },
      "execution_count": null,
      "outputs": [
        {
          "output_type": "error",
          "ename": "IndentationError",
          "evalue": "ignored",
          "traceback": [
            "\u001b[0;36m  File \u001b[0;32m\"<ipython-input-1-3df176a9f5f0>\"\u001b[0;36m, line \u001b[0;32m6\u001b[0m\n\u001b[0;31m    def __len__(self):\u001b[0m\n\u001b[0m      ^\u001b[0m\n\u001b[0;31mIndentationError\u001b[0m\u001b[0;31m:\u001b[0m expected an indented block\n"
          ]
        }
      ]
    },
    {
      "cell_type": "code",
      "source": [
        "# 2. 커스텀 데이터셋으로 선형 회귀 구현하기 \n",
        "import torch \n",
        "import torch.nn.functional as F \n",
        "\n",
        "from torch.utils.data import Dataset \n",
        "from torch.utils.data import DataLoader "
      ],
      "metadata": {
        "id": "2DvYxCCqfiOr"
      },
      "execution_count": null,
      "outputs": []
    },
    {
      "cell_type": "code",
      "source": [
        "# Dataset 상속 \n",
        "class CustomDataset(Dataset): \n",
        "    def __init__(self): \n",
        "        self.x_data = [[73, 80, 75],\n",
        "                       [93, 88, 93],\n",
        "                       [89, 91, 90], \n",
        "                       [96, 98, 100],\n",
        "                       [73, 66, 70]] \n",
        "        self.y_data = [[152], [185], [180], [196], [142]] \n",
        "\n",
        "    # 총 데이터의 개수를 리턴 \n",
        "    def __len__(self): \n",
        "        return len(self.x_data) \n",
        "\n",
        "    # 인덱스를 입력받아 그에 맵핑되는 입출력 데이터를 파이토치의 Tensor 형태로 리턴 \n",
        "    def __getitem__(self, idx): \n",
        "        x = torch.FloatTensor(self.x_data[idx]) \n",
        "        y = torch.FloatTensor(self.y_data[idx]) \n",
        "        return x, y "
      ],
      "metadata": {
        "id": "zIVMm-i1fvFp"
      },
      "execution_count": null,
      "outputs": []
    },
    {
      "cell_type": "code",
      "source": [
        "dataset = CustomDataset() \n",
        "dataloader = DataLoader(dataset, batch_size=2, shuffle=True) "
      ],
      "metadata": {
        "id": "X_tsHUYYg-6T"
      },
      "execution_count": null,
      "outputs": []
    },
    {
      "cell_type": "code",
      "source": [
        "model = torch.nn.Linear(3,1) \n",
        "optimizer = torch.optim.SGD(model.parameters(), lr=1e-5) "
      ],
      "metadata": {
        "id": "IhWP1u4KhGS5"
      },
      "execution_count": null,
      "outputs": []
    },
    {
      "cell_type": "code",
      "source": [
        "nb_epochs = 20 \n",
        "for epoch in range(nb_epochs + 1): \n",
        "    for batch_idx, samples in enumerate(dataloader): \n",
        "        # print(batch_idx) \n",
        "        # print(samples) \n",
        "        x_train, y_train = samples\n",
        "        # H(x) 계산 \n",
        "        prediction = model(x_train) \n",
        "\n",
        "        # cost 계산 \n",
        "        cost = F.mse_loss(prediction, y_train) \n",
        "\n",
        "        # cost로 H(x) 계산 \n",
        "        optimizer.zero_grad() \n",
        "        cost.backward() \n",
        "        optimizer.step() \n",
        "\n",
        "        print('Epoch {:4d}/{} Batch {}/{} Cost: {:.6f}'.format(\n",
        "            epoch, nb_epochs, batch_idx+1, len(dataloader), \n",
        "            cost.item()\n",
        "        ))"
      ],
      "metadata": {
        "colab": {
          "base_uri": "https://localhost:8080/"
        },
        "id": "Fm60eW6-hO0K",
        "outputId": "633f58dd-ddcc-4d54-e366-8d240d3538a9"
      },
      "execution_count": null,
      "outputs": [
        {
          "output_type": "stream",
          "name": "stdout",
          "text": [
            "Epoch    0/20 Batch 1/3 Cost: 31408.478516\n",
            "Epoch    0/20 Batch 2/3 Cost: 14191.935547\n",
            "Epoch    0/20 Batch 3/3 Cost: 4381.005371\n",
            "Epoch    1/20 Batch 1/3 Cost: 852.129272\n",
            "Epoch    1/20 Batch 2/3 Cost: 421.612549\n",
            "Epoch    1/20 Batch 3/3 Cost: 83.920204\n",
            "Epoch    2/20 Batch 1/3 Cost: 36.913750\n",
            "Epoch    2/20 Batch 2/3 Cost: 5.088936\n",
            "Epoch    2/20 Batch 3/3 Cost: 1.805008\n",
            "Epoch    3/20 Batch 1/3 Cost: 3.193100\n",
            "Epoch    3/20 Batch 2/3 Cost: 0.066148\n",
            "Epoch    3/20 Batch 3/3 Cost: 0.014231\n",
            "Epoch    4/20 Batch 1/3 Cost: 0.070425\n",
            "Epoch    4/20 Batch 2/3 Cost: 0.089985\n",
            "Epoch    4/20 Batch 3/3 Cost: 2.085710\n",
            "Epoch    5/20 Batch 1/3 Cost: 0.529927\n",
            "Epoch    5/20 Batch 2/3 Cost: 0.723362\n",
            "Epoch    5/20 Batch 3/3 Cost: 0.000635\n",
            "Epoch    6/20 Batch 1/3 Cost: 0.823295\n",
            "Epoch    6/20 Batch 2/3 Cost: 0.211205\n",
            "Epoch    6/20 Batch 3/3 Cost: 0.007304\n",
            "Epoch    7/20 Batch 1/3 Cost: 0.866252\n",
            "Epoch    7/20 Batch 2/3 Cost: 0.184083\n",
            "Epoch    7/20 Batch 3/3 Cost: 0.003585\n",
            "Epoch    8/20 Batch 1/3 Cost: 0.110046\n",
            "Epoch    8/20 Batch 2/3 Cost: 0.915607\n",
            "Epoch    8/20 Batch 3/3 Cost: 0.397406\n",
            "Epoch    9/20 Batch 1/3 Cost: 0.135788\n",
            "Epoch    9/20 Batch 2/3 Cost: 1.116201\n",
            "Epoch    9/20 Batch 3/3 Cost: 0.034968\n",
            "Epoch   10/20 Batch 1/3 Cost: 0.133351\n",
            "Epoch   10/20 Batch 2/3 Cost: 0.068952\n",
            "Epoch   10/20 Batch 3/3 Cost: 1.848855\n",
            "Epoch   11/20 Batch 1/3 Cost: 0.677111\n",
            "Epoch   11/20 Batch 2/3 Cost: 0.711913\n",
            "Epoch   11/20 Batch 3/3 Cost: 0.058256\n",
            "Epoch   12/20 Batch 1/3 Cost: 0.184233\n",
            "Epoch   12/20 Batch 2/3 Cost: 0.911890\n",
            "Epoch   12/20 Batch 3/3 Cost: 0.007805\n",
            "Epoch   13/20 Batch 1/3 Cost: 0.828439\n",
            "Epoch   13/20 Batch 2/3 Cost: 0.226919\n",
            "Epoch   13/20 Batch 3/3 Cost: 0.004644\n",
            "Epoch   14/20 Batch 1/3 Cost: 0.785657\n",
            "Epoch   14/20 Batch 2/3 Cost: 0.283797\n",
            "Epoch   14/20 Batch 3/3 Cost: 0.229416\n",
            "Epoch   15/20 Batch 1/3 Cost: 0.040653\n",
            "Epoch   15/20 Batch 2/3 Cost: 0.938505\n",
            "Epoch   15/20 Batch 3/3 Cost: 0.285055\n",
            "Epoch   16/20 Batch 1/3 Cost: 0.996356\n",
            "Epoch   16/20 Batch 2/3 Cost: 0.006213\n",
            "Epoch   16/20 Batch 3/3 Cost: 0.208097\n",
            "Epoch   17/20 Batch 1/3 Cost: 1.003076\n",
            "Epoch   17/20 Batch 2/3 Cost: 0.131080\n",
            "Epoch   17/20 Batch 3/3 Cost: 0.000018\n",
            "Epoch   18/20 Batch 1/3 Cost: 0.914825\n",
            "Epoch   18/20 Batch 2/3 Cost: 0.169347\n",
            "Epoch   18/20 Batch 3/3 Cost: 0.012867\n",
            "Epoch   19/20 Batch 1/3 Cost: 0.871894\n",
            "Epoch   19/20 Batch 2/3 Cost: 0.201329\n",
            "Epoch   19/20 Batch 3/3 Cost: 0.008204\n",
            "Epoch   20/20 Batch 1/3 Cost: 0.124662\n",
            "Epoch   20/20 Batch 2/3 Cost: 0.068272\n",
            "Epoch   20/20 Batch 3/3 Cost: 1.808577\n"
          ]
        }
      ]
    },
    {
      "cell_type": "code",
      "source": [
        "# 임의의 입력 [73, 80, 75]를 선언 \n",
        "new_var = torch.FloatTensor([[73, 80, 75]]) \n",
        "# 입력한 값 [73, 80, 75]에 대해서 예측값 y를 리턴받아서 pred_y에 저장 \n",
        "pred_y = model(new_var) \n",
        "print('훈련 후 입력이 73, 80, 75일때 예측값: ', pred_y)"
      ],
      "metadata": {
        "colab": {
          "base_uri": "https://localhost:8080/"
        },
        "id": "gY0Q1miTiKgQ",
        "outputId": "00348d43-1814-49f9-849d-e6b6ab2516a3"
      },
      "execution_count": null,
      "outputs": [
        {
          "output_type": "stream",
          "name": "stdout",
          "text": [
            "훈련 후 입력이 73, 80, 75일때 예측값:  tensor([[151.1219]], grad_fn=<AddmmBackward0>)\n"
          ]
        }
      ]
    },
    {
      "cell_type": "code",
      "source": [],
      "metadata": {
        "id": "wFjPYP8Xi5-D"
      },
      "execution_count": null,
      "outputs": []
    }
  ]
}