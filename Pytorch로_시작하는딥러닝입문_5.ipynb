{
  "nbformat": 4,
  "nbformat_minor": 0,
  "metadata": {
    "colab": {
      "provenance": [],
      "collapsed_sections": [],
      "authorship_tag": "ABX9TyNlnDEnYG9Sg1ny5T+fYax4",
      "include_colab_link": true
    },
    "kernelspec": {
      "name": "python3",
      "display_name": "Python 3"
    },
    "language_info": {
      "name": "python"
    },
    "gpuClass": "standard",
    "accelerator": "GPU"
  },
  "cells": [
    {
      "cell_type": "markdown",
      "metadata": {
        "id": "view-in-github",
        "colab_type": "text"
      },
      "source": [
        "<a href=\"https://colab.research.google.com/github/Hansol03/PyTorch-Wikidocs-/blob/main/Pytorch%EB%A1%9C_%EC%8B%9C%EC%9E%91%ED%95%98%EB%8A%94%EB%94%A5%EB%9F%AC%EB%8B%9D%EC%9E%85%EB%AC%B8_5.ipynb\" target=\"_parent\"><img src=\"https://colab.research.google.com/assets/colab-badge.svg\" alt=\"Open In Colab\"/></a>"
      ]
    },
    {
      "cell_type": "markdown",
      "source": [
        "###**06.인공 신경망**"
      ],
      "metadata": {
        "id": "gnHU6tR1vu6Q"
      }
    },
    {
      "cell_type": "code",
      "execution_count": null,
      "metadata": {
        "id": "Zz2DHXN0n_5K"
      },
      "outputs": [],
      "source": [
        "def AND_gate(x1, x2): \n",
        "    w1 = 0.5\n",
        "    w2 = 0.5\n",
        "    b = -0.7\n",
        "    result = x1*w1 + x2*w2 + b\n",
        "    if result <= 0:\n",
        "        return 0\n",
        "    else:\n",
        "        return 1 "
      ]
    },
    {
      "cell_type": "code",
      "source": [
        "AND_gate(0,0), AND_gate(0,1), AND_gate(1,0), AND_gate(1,1)"
      ],
      "metadata": {
        "colab": {
          "base_uri": "https://localhost:8080/"
        },
        "id": "q1QeCWPopumW",
        "outputId": "d51dddee-a0fa-4c86-c32a-4856137757c9"
      },
      "execution_count": null,
      "outputs": [
        {
          "output_type": "execute_result",
          "data": {
            "text/plain": [
              "(0, 0, 0, 1)"
            ]
          },
          "metadata": {},
          "execution_count": 3
        }
      ]
    },
    {
      "cell_type": "code",
      "source": [
        "def NAND_gate(x1, x2): \n",
        "    w1=-0.5\n",
        "    w2=-0.5\n",
        "    b=0.7\n",
        "    result = x1*w1 + x2*w2 + b \n",
        "    if result <= 0:\n",
        "        return 0 \n",
        "    else: \n",
        "        return 1 "
      ],
      "metadata": {
        "id": "J3ZRBHKtp-Wg"
      },
      "execution_count": null,
      "outputs": []
    },
    {
      "cell_type": "code",
      "source": [
        "NAND_gate(0,1), NAND_gate(0,1), NAND_gate(1,0), NAND_gate(1,1) "
      ],
      "metadata": {
        "colab": {
          "base_uri": "https://localhost:8080/"
        },
        "id": "W1xJoT8YqfNE",
        "outputId": "1b746f64-6174-4593-bd14-7cc52f410b48"
      },
      "execution_count": null,
      "outputs": [
        {
          "output_type": "execute_result",
          "data": {
            "text/plain": [
              "(1, 1, 1, 0)"
            ]
          },
          "metadata": {},
          "execution_count": 5
        }
      ]
    },
    {
      "cell_type": "code",
      "source": [
        "def OR_gate(x1, x2): \n",
        "    w1=0.6\n",
        "    w2=0.6\n",
        "    b=-0.5\n",
        "    result = x1*w1 + x2*w2 + b \n",
        "    if result <= 0:\n",
        "        return 0 \n",
        "    else:\n",
        "        return 1 "
      ],
      "metadata": {
        "id": "cgYon5cFqmBp"
      },
      "execution_count": null,
      "outputs": []
    },
    {
      "cell_type": "code",
      "source": [
        "OR_gate(0,0), OR_gate(0,1), OR_gate(1,0), OR_gate(1,1)"
      ],
      "metadata": {
        "colab": {
          "base_uri": "https://localhost:8080/"
        },
        "id": "VF_OnhJsrFfK",
        "outputId": "a648e56d-ce90-46f7-b4c3-a02f17b84f78"
      },
      "execution_count": null,
      "outputs": [
        {
          "output_type": "execute_result",
          "data": {
            "text/plain": [
              "(0, 1, 1, 1)"
            ]
          },
          "metadata": {},
          "execution_count": 7
        }
      ]
    },
    {
      "cell_type": "markdown",
      "source": [
        "####**03.XOR문제 - 단층 퍼셉트론 구현하기**"
      ],
      "metadata": {
        "id": "RjpocxhkvlL6"
      }
    },
    {
      "cell_type": "code",
      "source": [
        "import torch \n",
        "import torch.nn as nn "
      ],
      "metadata": {
        "id": "90g6adxirkEP"
      },
      "execution_count": null,
      "outputs": []
    },
    {
      "cell_type": "code",
      "source": [
        "device = 'cuda' if torch.cuda.is_available() else 'cpu'\n",
        "torch.manual_seed(777) \n",
        "if device == 'cuda':\n",
        "    torch.cuda.manual_seed_all(777) "
      ],
      "metadata": {
        "id": "RYNpTH5uvRgO"
      },
      "execution_count": null,
      "outputs": []
    },
    {
      "cell_type": "code",
      "source": [
        "X = torch.FloatTensor([[0,0], [0,1], [1,0], [1,1]]).to(device) \n",
        "Y = torch.FloatTensor([[0], [1], [1], [0]]).to(device) "
      ],
      "metadata": {
        "id": "DvrL0RaPviPr"
      },
      "execution_count": null,
      "outputs": []
    },
    {
      "cell_type": "code",
      "source": [
        "linear = nn.Linear(2,1, bias=True) \n",
        "sigmoid = nn.Sigmoid() \n",
        "model = nn.Sequential(linear, sigmoid).to(device) "
      ],
      "metadata": {
        "id": "V6pnOZcNwyk_"
      },
      "execution_count": null,
      "outputs": []
    },
    {
      "cell_type": "code",
      "source": [
        "# 비용 함수와 옵티마이저 정의\n",
        "criterion = torch.nn.BCELoss().to(device)\n",
        "optimizer = torch.optim.SGD(model.parameters(), lr=1) "
      ],
      "metadata": {
        "id": "U42WSzQyxFRx"
      },
      "execution_count": null,
      "outputs": []
    },
    {
      "cell_type": "code",
      "source": [
        "# 10,001번의 에포크 수행. 0번 에포크부터 10,000번 에포크까지\n",
        "for step in range(10001): \n",
        "    optimizer.zero_grad() \n",
        "    hypothesis = model(X) \n",
        "\n",
        "    # 비용 함수 \n",
        "    cost = criterion(hypothesis, Y) \n",
        "    cost.backward() \n",
        "    optimizer.step() \n",
        "\n",
        "    if step % 100 ==0:  # 100번째 에포크마다 비용 출력\n",
        "        print(step, cost.item())"
      ],
      "metadata": {
        "colab": {
          "base_uri": "https://localhost:8080/"
        },
        "id": "ZZeB6A4HxvBk",
        "outputId": "bc18c15c-fc4f-43d1-e990-3961b8aebc29"
      },
      "execution_count": null,
      "outputs": [
        {
          "output_type": "stream",
          "name": "stdout",
          "text": [
            "0 0.7273974418640137\n",
            "100 0.6931475400924683\n",
            "200 0.6931471824645996\n",
            "300 0.6931471824645996\n",
            "400 0.6931471824645996\n",
            "500 0.6931471824645996\n",
            "600 0.6931471824645996\n",
            "700 0.6931471824645996\n",
            "800 0.6931471824645996\n",
            "900 0.6931471824645996\n",
            "1000 0.6931471824645996\n",
            "1100 0.6931471824645996\n",
            "1200 0.6931471824645996\n",
            "1300 0.6931471824645996\n",
            "1400 0.6931471824645996\n",
            "1500 0.6931471824645996\n",
            "1600 0.6931471824645996\n",
            "1700 0.6931471824645996\n",
            "1800 0.6931471824645996\n",
            "1900 0.6931471824645996\n",
            "2000 0.6931471824645996\n",
            "2100 0.6931471824645996\n",
            "2200 0.6931471824645996\n",
            "2300 0.6931471824645996\n",
            "2400 0.6931471824645996\n",
            "2500 0.6931471824645996\n",
            "2600 0.6931471824645996\n",
            "2700 0.6931471824645996\n",
            "2800 0.6931471824645996\n",
            "2900 0.6931471824645996\n",
            "3000 0.6931471824645996\n",
            "3100 0.6931471824645996\n",
            "3200 0.6931471824645996\n",
            "3300 0.6931471824645996\n",
            "3400 0.6931471824645996\n",
            "3500 0.6931471824645996\n",
            "3600 0.6931471824645996\n",
            "3700 0.6931471824645996\n",
            "3800 0.6931471824645996\n",
            "3900 0.6931471824645996\n",
            "4000 0.6931471824645996\n",
            "4100 0.6931471824645996\n",
            "4200 0.6931471824645996\n",
            "4300 0.6931471824645996\n",
            "4400 0.6931471824645996\n",
            "4500 0.6931471824645996\n",
            "4600 0.6931471824645996\n",
            "4700 0.6931471824645996\n",
            "4800 0.6931471824645996\n",
            "4900 0.6931471824645996\n",
            "5000 0.6931471824645996\n",
            "5100 0.6931471824645996\n",
            "5200 0.6931471824645996\n",
            "5300 0.6931471824645996\n",
            "5400 0.6931471824645996\n",
            "5500 0.6931471824645996\n",
            "5600 0.6931471824645996\n",
            "5700 0.6931471824645996\n",
            "5800 0.6931471824645996\n",
            "5900 0.6931471824645996\n",
            "6000 0.6931471824645996\n",
            "6100 0.6931471824645996\n",
            "6200 0.6931471824645996\n",
            "6300 0.6931471824645996\n",
            "6400 0.6931471824645996\n",
            "6500 0.6931471824645996\n",
            "6600 0.6931471824645996\n",
            "6700 0.6931471824645996\n",
            "6800 0.6931471824645996\n",
            "6900 0.6931471824645996\n",
            "7000 0.6931471824645996\n",
            "7100 0.6931471824645996\n",
            "7200 0.6931471824645996\n",
            "7300 0.6931471824645996\n",
            "7400 0.6931471824645996\n",
            "7500 0.6931471824645996\n",
            "7600 0.6931471824645996\n",
            "7700 0.6931471824645996\n",
            "7800 0.6931471824645996\n",
            "7900 0.6931471824645996\n",
            "8000 0.6931471824645996\n",
            "8100 0.6931471824645996\n",
            "8200 0.6931471824645996\n",
            "8300 0.6931471824645996\n",
            "8400 0.6931471824645996\n",
            "8500 0.6931471824645996\n",
            "8600 0.6931471824645996\n",
            "8700 0.6931471824645996\n",
            "8800 0.6931471824645996\n",
            "8900 0.6931471824645996\n",
            "9000 0.6931471824645996\n",
            "9100 0.6931471824645996\n",
            "9200 0.6931471824645996\n",
            "9300 0.6931471824645996\n",
            "9400 0.6931471824645996\n",
            "9500 0.6931471824645996\n",
            "9600 0.6931471824645996\n",
            "9700 0.6931471824645996\n",
            "9800 0.6931471824645996\n",
            "9900 0.6931471824645996\n",
            "10000 0.6931471824645996\n"
          ]
        }
      ]
    },
    {
      "cell_type": "code",
      "source": [
        "with torch.no_grad(): \n",
        "    hypothesis = model(X)\n",
        "    predicted = (hypothesis > 0.5).float()\n",
        "    accuracy = (predicted == Y).float().mean() \n",
        "    print('모델의 출력값(Hypothesis): ', hypothesis.detach().cpu().numpy()) \n",
        "    print('모델의 예측값(Predicted): ', predicted.detach().cpu().numpy())\n",
        "    print('실제값(Y): ', Y.cpu().numpy()) \n",
        "    print('정확도(Accuracy): ', accuracy.item()) "
      ],
      "metadata": {
        "colab": {
          "base_uri": "https://localhost:8080/"
        },
        "id": "566rWgyFyPNV",
        "outputId": "9d541c85-8c33-49bb-b6fa-35e3adbcae59"
      },
      "execution_count": null,
      "outputs": [
        {
          "output_type": "stream",
          "name": "stdout",
          "text": [
            "모델의 출력값(Hypothesis):  [[0.5]\n",
            " [0.5]\n",
            " [0.5]\n",
            " [0.5]]\n",
            "모델의 예측값(Predicted):  [[0.]\n",
            " [0.]\n",
            " [0.]\n",
            " [0.]]\n",
            "실제값(Y):  [[0.]\n",
            " [1.]\n",
            " [1.]\n",
            " [0.]]\n",
            "정확도(Accuracy):  0.5\n"
          ]
        }
      ]
    },
    {
      "cell_type": "code",
      "source": [
        "# 05.XOR문제-다층 퍼셉트론 구하기\n",
        "import torch\n",
        "import torch.nn as nn "
      ],
      "metadata": {
        "id": "3dVtpRyHzGUk"
      },
      "execution_count": null,
      "outputs": []
    },
    {
      "cell_type": "code",
      "source": [
        "device = 'cuda' if torch.cuda.is_available() else 'cpu' \n",
        "\n",
        "# for reproducivility \n",
        "torch.manual_seed(777) \n",
        "if device == 'cuda': \n",
        "    torch.cuda.manual_seed_all(777) "
      ],
      "metadata": {
        "id": "NIQbVf8_7NnY"
      },
      "execution_count": null,
      "outputs": []
    },
    {
      "cell_type": "code",
      "source": [
        "X = torch.FloatTensor([[0,0], [0,1], [1,0], [1,1]]).to(device) \n",
        "Y = torch.FloatTensor([[0], [1], [1], [0]]).to(device) "
      ],
      "metadata": {
        "id": "iiTzArqL7bJF"
      },
      "execution_count": null,
      "outputs": []
    },
    {
      "cell_type": "code",
      "source": [
        "model = nn. Sequential(\n",
        "          nn.Linear(2,10, bias=True), # input_layer =2 , hiddne_layer1 = 10\n",
        "          nn.Sigmoid(), \n",
        "          nn.Linear(10, 10, bias=True), # hiddne_layer1 = 10, hidden_layer2 = 10 \n",
        "          nn.Sigmoid(), \n",
        "          nn.Linear(10, 10, bias=True), # hidden_layer2 = 10, hidden_layer3 = 10 \n",
        "          nn.Sigmoid(), \n",
        "          nn.Linear(10, 1, bias=True), # hidden_layer3 = 10, output_layer=1 \n",
        "          nn.Sigmoid()\n",
        "          ).to(device) "
      ],
      "metadata": {
        "id": "tzbTfJPu7qMU"
      },
      "execution_count": null,
      "outputs": []
    },
    {
      "cell_type": "code",
      "source": [
        "criterion = torch.nn.BCELoss().to(device) \n",
        "optimizer = torch.optim.SGD(model.parameters(), lr=1) # modified learning rate from 01. to 1 "
      ],
      "metadata": {
        "id": "g4nnecLJ8QoE"
      },
      "execution_count": null,
      "outputs": []
    },
    {
      "cell_type": "code",
      "source": [
        "for epoch in range(10001): \n",
        "    optimizer.zero_grad() \n",
        "    # forward 연산 \n",
        "    hypothesis = model(X) \n",
        "\n",
        "    # 비용 함수\n",
        "    cost = criterion(hypothesis, Y) \n",
        "    cost.backward() \n",
        "    optimizer.step() \n",
        "\n",
        "    # 100의 배수에 해당되는 에포크마다 비용을 출력\n",
        "    if epoch % 100 == 0:\n",
        "        print(epoch, cost.item())  "
      ],
      "metadata": {
        "colab": {
          "base_uri": "https://localhost:8080/"
        },
        "id": "AFo-ja7u8wKl",
        "outputId": "7c4d468a-0ad6-468d-f915-fec6c9e8c86b"
      },
      "execution_count": null,
      "outputs": [
        {
          "output_type": "stream",
          "name": "stdout",
          "text": [
            "0 0.6948983669281006\n",
            "100 0.6931558847427368\n",
            "200 0.6931535005569458\n",
            "300 0.6931513547897339\n",
            "400 0.6931492686271667\n",
            "500 0.6931473016738892\n",
            "600 0.6931453943252563\n",
            "700 0.6931434869766235\n",
            "800 0.6931415796279907\n",
            "900 0.6931397914886475\n",
            "1000 0.6931380033493042\n",
            "1100 0.6931362152099609\n",
            "1200 0.6931343078613281\n",
            "1300 0.6931324005126953\n",
            "1400 0.6931304931640625\n",
            "1500 0.6931284666061401\n",
            "1600 0.6931264400482178\n",
            "1700 0.6931242942810059\n",
            "1800 0.6931220293045044\n",
            "1900 0.6931196451187134\n",
            "2000 0.6931171417236328\n",
            "2100 0.6931145191192627\n",
            "2200 0.6931116580963135\n",
            "2300 0.6931085586547852\n",
            "2400 0.6931051015853882\n",
            "2500 0.6931014657020569\n",
            "2600 0.6930974721908569\n",
            "2700 0.6930930018424988\n",
            "2800 0.6930880546569824\n",
            "2900 0.6930825114250183\n",
            "3000 0.6930763125419617\n",
            "3100 0.6930692791938782\n",
            "3200 0.6930611729621887\n",
            "3300 0.6930519342422485\n",
            "3400 0.6930411458015442\n",
            "3500 0.6930283904075623\n",
            "3600 0.6930133104324341\n",
            "3700 0.6929951906204224\n",
            "3800 0.6929729580879211\n",
            "3900 0.6929453015327454\n",
            "4000 0.6929103136062622\n",
            "4100 0.6928650140762329\n",
            "4200 0.6928046941757202\n",
            "4300 0.6927220225334167\n",
            "4400 0.6926040649414062\n",
            "4500 0.6924278736114502\n",
            "4600 0.692147970199585\n",
            "4700 0.6916664838790894\n",
            "4800 0.6907395124435425\n",
            "4900 0.6886203289031982\n",
            "5000 0.6820820569992065\n",
            "5100 0.647254467010498\n",
            "5200 0.44952040910720825\n",
            "5300 0.041330933570861816\n",
            "5400 0.009731853380799294\n",
            "5500 0.005032628774642944\n",
            "5600 0.003295110072940588\n",
            "5700 0.002415277296677232\n",
            "5800 0.0018910184735432267\n",
            "5900 0.001545755541883409\n",
            "6000 0.0013024783693253994\n",
            "6100 0.001122470130212605\n",
            "6200 0.0009842305444180965\n",
            "6300 0.0008749595144763589\n",
            "6400 0.0007865644874982536\n",
            "6500 0.0007136859931051731\n",
            "6600 0.0006526226061396301\n",
            "6700 0.000600747880525887\n",
            "6800 0.0005562114529311657\n",
            "6900 0.0005175513215363026\n",
            "7000 0.0004836485313717276\n",
            "7100 0.0004538019420579076\n",
            "7200 0.0004272509249858558\n",
            "7300 0.00040348825859837234\n",
            "7400 0.00038217095425352454\n",
            "7500 0.00036286652903072536\n",
            "7600 0.0003453810350038111\n",
            "7700 0.00032938653021119535\n",
            "7800 0.0003147636307403445\n",
            "7900 0.00030134833650663495\n",
            "8000 0.00028899149037897587\n",
            "8100 0.00027755898190662265\n",
            "8200 0.0002669314562808722\n",
            "8300 0.00025710894260555506\n",
            "8400 0.0002479125396348536\n",
            "8500 0.00023934218916110694\n",
            "8600 0.00023130852787289768\n",
            "8700 0.00022378168068826199\n",
            "8800 0.00021671691501978785\n",
            "8900 0.00021006952738389373\n",
            "9000 0.0002038097009062767\n",
            "9100 0.0001978629152290523\n",
            "9200 0.00019227384473197162\n",
            "9300 0.0001869679836090654\n",
            "9400 0.00018191552953794599\n",
            "9500 0.00017716118600219488\n",
            "9600 0.00017261551693081856\n",
            "9700 0.00016829342348501086\n",
            "9800 0.0001641949056647718\n",
            "9900 0.00016023052739910781\n",
            "10000 0.0001565046259202063\n"
          ]
        }
      ]
    },
    {
      "cell_type": "code",
      "source": [
        "with torch.no_grad(): \n",
        "    hypothesis = model(X) \n",
        "    predicted = (hypothesis > 0.5).float() \n",
        "    accuracy = (predicted == Y).float().mean() \n",
        "    print('모델의 출력값(Hypothesis): ', hypothesis.detach().cpu().numpy()) \n",
        "    print('모델의 예측값(predicted):' , predicted.detach().cpu().numpy()) \n",
        "    print('실제값(Y): ', Y.cpu().numpy()) \n",
        "    print('정확도도(accuracy): ', accuracy.item()) "
      ],
      "metadata": {
        "colab": {
          "base_uri": "https://localhost:8080/"
        },
        "id": "6ojp1ryc9Ek2",
        "outputId": "31dad2a9-0708-4f2c-ff50-6cd7bd9c7a0a"
      },
      "execution_count": null,
      "outputs": [
        {
          "output_type": "stream",
          "name": "stdout",
          "text": [
            "모델의 출력값(Hypothesis):  [[1.1169227e-04]\n",
            " [9.9982882e-01]\n",
            " [9.9984241e-01]\n",
            " [1.8534942e-04]]\n",
            "모델의 예측값(predicted): [[0.]\n",
            " [1.]\n",
            " [1.]\n",
            " [0.]]\n",
            "실제값(Y):  [[0.]\n",
            " [1.]\n",
            " [1.]\n",
            " [0.]]\n",
            "정확도도(accuracy):  1.0\n"
          ]
        }
      ]
    },
    {
      "cell_type": "markdown",
      "source": [
        "####**06.비선형 활성화 함수(Activation Function)**"
      ],
      "metadata": {
        "id": "rZj0d0gs3we3"
      }
    },
    {
      "cell_type": "code",
      "source": [
        "import numpy as np\n",
        "import matplotlib.pyplot as plt "
      ],
      "metadata": {
        "id": "Qu8GxZA295cP"
      },
      "execution_count": null,
      "outputs": []
    },
    {
      "cell_type": "code",
      "source": [
        "# 2. Sigmoid 함수와 기울기 소멸 \n",
        "# 시그모이드 함수 그래프를 그리는 코드 \n",
        "def sigmoid(x): \n",
        "    return 1/(1+np.exp(-x)) \n",
        "x = np.arange(-5.0, 5.0, 0.1) \n",
        "y = sigmoid(x) \n",
        "\n",
        "plt.plot(x, y) \n",
        "plt.plot([0,0], [1.0, 0.0], ':') # 가운데 점선 추가 \n",
        "plt.title('Sigmoid Function') \n",
        "plt.show()"
      ],
      "metadata": {
        "colab": {
          "base_uri": "https://localhost:8080/",
          "height": 281
        },
        "id": "HRyCxYqw36Cl",
        "outputId": "4d5e28a6-ce3d-4478-c704-025cfc889cf8"
      },
      "execution_count": null,
      "outputs": [
        {
          "output_type": "display_data",
          "data": {
            "text/plain": [
              "<Figure size 432x288 with 1 Axes>"
            ],
            "image/png": "[encoded data removed]"
          },
          "metadata": {
            "needs_background": "light"
          }
        }
      ]
    },
    {
      "cell_type": "code",
      "source": [
        "# 3. Hyperbolic tanget function \n",
        "x = np.arange(-5.0, 5.0, 0.1) # -5.0부터 5.0까지 0.1 간격 생성 \n",
        "y = np.tanh(x) \n",
        "\n",
        "plt.plot(x, y)\n",
        "plt.plot([0,0], [1.0, -1.0], ':')\n",
        "plt.axhline(y=0, color='orange', linestyle='--') \n",
        "plt.title('Tanh Function') \n",
        "plt.show() "
      ],
      "metadata": {
        "colab": {
          "base_uri": "https://localhost:8080/",
          "height": 281
        },
        "id": "7Va8D7sT5iOZ",
        "outputId": "b2cf0994-f4be-4a2f-b004-a3ee11c1c24b"
      },
      "execution_count": null,
      "outputs": [
        {
          "output_type": "display_data",
          "data": {
            "text/plain": [
              "<Figure size 432x288 with 1 Axes>"
            ],
            "image/png": "[encoded data removed]"
          },
          "metadata": {
            "needs_background": "light"
          }
        }
      ]
    },
    {
      "cell_type": "code",
      "source": [
        "# 4. ReLU \n",
        "def relu(x):\n",
        "    return np.maximum(0, x) \n",
        "\n",
        "x = np.arange(-5.0, 5.0, 0.1) \n",
        "y = relu(x) \n",
        "\n",
        "plt.plot(x,y) \n",
        "plt.plot([0,0], [5.0, 0.0], ':') \n",
        "plt.title('ReluFunction') \n",
        "plt.show()"
      ],
      "metadata": {
        "colab": {
          "base_uri": "https://localhost:8080/",
          "height": 281
        },
        "id": "PpRrf_9I6GFj",
        "outputId": "dbe05e1e-e2b8-4de0-dbeb-0f737a596370"
      },
      "execution_count": null,
      "outputs": [
        {
          "output_type": "display_data",
          "data": {
            "text/plain": [
              "<Figure size 432x288 with 1 Axes>"
            ],
            "image/png": "[encoded data removed]"
          },
          "metadata": {
            "needs_background": "light"
          }
        }
      ]
    },
    {
      "cell_type": "code",
      "source": [
        "# 5. 리키 렐루(Leaky ReLU) \n",
        "a = 0.1 "
      ],
      "metadata": {
        "id": "IVYRzEdA63db"
      },
      "execution_count": null,
      "outputs": []
    },
    {
      "cell_type": "code",
      "source": [
        "def leaky_relu(x):\n",
        "    return np.maximum(a*x, x) \n",
        "\n",
        "x = np.arange(-5.0, 5.0, 0.1) \n",
        "y = leaky_relu(x) \n",
        "\n",
        "plt.plot(x, y) \n",
        "plt.plot([0,0], [5.0, 0.0], ':') \n",
        "plt.title('Leaky ReLU Function') \n",
        "plt.show()"
      ],
      "metadata": {
        "colab": {
          "base_uri": "https://localhost:8080/",
          "height": 281
        },
        "id": "2KWDoXKR7Nd1",
        "outputId": "a0f28e39-7d8e-4be5-bdcf-5c2c8fb6757c"
      },
      "execution_count": null,
      "outputs": [
        {
          "output_type": "display_data",
          "data": {
            "text/plain": [
              "<Figure size 432x288 with 1 Axes>"
            ],
            "image/png": "[encoded data removed]"
          },
          "metadata": {
            "needs_background": "light"
          }
        }
      ]
    },
    {
      "cell_type": "code",
      "source": [
        "# 6. Softmax function \n",
        "x = np.arange(-5.0, 5.0, 0.1) # -5.0부터 5.0까지 0.1 간격 생성 \n",
        "y = np.exp(x) / np.sum(np.exp(x)) \n",
        "\n",
        "plt.plot(x,y) \n",
        "plt.title('Softmax Function') \n",
        "plt.show()"
      ],
      "metadata": {
        "colab": {
          "base_uri": "https://localhost:8080/",
          "height": 281
        },
        "id": "PCmJg15W7g1L",
        "outputId": "5c861d94-364b-49c6-9028-d862c8b87dd7"
      },
      "execution_count": null,
      "outputs": [
        {
          "output_type": "display_data",
          "data": {
            "text/plain": [
              "<Figure size 432x288 with 1 Axes>"
            ],
            "image/png": "[encoded data removed]"
          },
          "metadata": {
            "needs_background": "light"
          }
        }
      ]
    },
    {
      "cell_type": "markdown",
      "source": [
        "####**07. 다층 퍼셉트론으로 손글씨 분류하기**"
      ],
      "metadata": {
        "id": "1Jev2WGs8x8w"
      }
    },
    {
      "cell_type": "code",
      "source": [
        "%matplotlib inline \n",
        "import matplotlib.pyplot as plt \n",
        "from sklearn.datasets import load_digits\n",
        "digits = load_digits() # 1,979개 이미지 데이터 로드 "
      ],
      "metadata": {
        "id": "WuRb2x0J77no"
      },
      "execution_count": null,
      "outputs": []
    },
    {
      "cell_type": "code",
      "source": [
        "print(digits.images[0])"
      ],
      "metadata": {
        "colab": {
          "base_uri": "https://localhost:8080/"
        },
        "id": "0y9L2hFE8uhB",
        "outputId": "68768f00-53ee-4497-bf28-4109f8f42af2"
      },
      "execution_count": null,
      "outputs": [
        {
          "output_type": "stream",
          "name": "stdout",
          "text": [
            "[[ 0.  0.  5. 13.  9.  1.  0.  0.]\n",
            " [ 0.  0. 13. 15. 10. 15.  5.  0.]\n",
            " [ 0.  3. 15.  2.  0. 11.  8.  0.]\n",
            " [ 0.  4. 12.  0.  0.  8.  8.  0.]\n",
            " [ 0.  5.  8.  0.  0.  9.  8.  0.]\n",
            " [ 0.  4. 11.  0.  1. 12.  7.  0.]\n",
            " [ 0.  2. 14.  5. 10. 12.  0.  0.]\n",
            " [ 0.  0.  6. 13. 10.  0.  0.  0.]]\n"
          ]
        }
      ]
    },
    {
      "cell_type": "code",
      "source": [
        "print(digits.target[0])"
      ],
      "metadata": {
        "colab": {
          "base_uri": "https://localhost:8080/"
        },
        "id": "Vr0CqEkO84P4",
        "outputId": "598a9d2a-43ad-4fc6-8e14-55a2ffcd456c"
      },
      "execution_count": null,
      "outputs": [
        {
          "output_type": "stream",
          "name": "stdout",
          "text": [
            "0\n"
          ]
        }
      ]
    },
    {
      "cell_type": "code",
      "source": [
        "print('전체 샘플의 수: {}'.format(len(digits.images)))"
      ],
      "metadata": {
        "colab": {
          "base_uri": "https://localhost:8080/"
        },
        "id": "9jGiBOc29Bb2",
        "outputId": "3a242f89-e309-47f5-be8e-941b6c852857"
      },
      "execution_count": null,
      "outputs": [
        {
          "output_type": "stream",
          "name": "stdout",
          "text": [
            "전체 샘플의 수: 1797\n"
          ]
        }
      ]
    },
    {
      "cell_type": "code",
      "source": [
        "images_and_labels = list(zip(digits.images, digits.target)) \n",
        "for index, (image, label) in enumerate(images_and_labels[:5]): # 5개의 샘플만 출력 \n",
        "    plt.subplot(2, 5, index + 1) \n",
        "    plt.axis('off') \n",
        "    plt.imshow(image, cmap=plt.cm.gray_r, interpolation='nearest') \n",
        "    plt.title('sample: %i' % label)"
      ],
      "metadata": {
        "colab": {
          "base_uri": "https://localhost:8080/",
          "height": 105
        },
        "id": "USoawmaB9Lo4",
        "outputId": "d9742861-7dd6-41cb-c374-1e8b085a6047"
      },
      "execution_count": null,
      "outputs": [
        {
          "output_type": "display_data",
          "data": {
            "text/plain": [
              "<Figure size 432x288 with 5 Axes>"
            ],
            "image/png": "[encoded data removed]"
          },
          "metadata": {
            "needs_background": "light"
          }
        }
      ]
    },
    {
      "cell_type": "code",
      "source": [
        "for i in range(5): \n",
        "    print(i, '번 인덱스 샘플의 레이블 :', digits.target[i] )"
      ],
      "metadata": {
        "colab": {
          "base_uri": "https://localhost:8080/"
        },
        "id": "DUBmP92t9ruZ",
        "outputId": "72e33891-230b-4a47-8e3d-9067837d5373"
      },
      "execution_count": null,
      "outputs": [
        {
          "output_type": "stream",
          "name": "stdout",
          "text": [
            "0 번 인덱스 샘플의 레이블 : 0\n",
            "1 번 인덱스 샘플의 레이블 : 1\n",
            "2 번 인덱스 샘플의 레이블 : 2\n",
            "3 번 인덱스 샘플의 레이블 : 3\n",
            "4 번 인덱스 샘플의 레이블 : 4\n"
          ]
        }
      ]
    },
    {
      "cell_type": "code",
      "source": [
        "print(digits.data[0])"
      ],
      "metadata": {
        "colab": {
          "base_uri": "https://localhost:8080/"
        },
        "id": "RkNryI5I99iB",
        "outputId": "dca4e543-7de1-4318-c844-5dc1018b31b2"
      },
      "execution_count": null,
      "outputs": [
        {
          "output_type": "stream",
          "name": "stdout",
          "text": [
            "[ 0.  0.  5. 13.  9.  1.  0.  0.  0.  0. 13. 15. 10. 15.  5.  0.  0.  3.\n",
            " 15.  2.  0. 11.  8.  0.  0.  4. 12.  0.  0.  8.  8.  0.  0.  5.  8.  0.\n",
            "  0.  9.  8.  0.  0.  4. 11.  0.  1. 12.  7.  0.  0.  2. 14.  5. 10. 12.\n",
            "  0.  0.  0.  0.  6. 13. 10.  0.  0.  0.]\n"
          ]
        }
      ]
    },
    {
      "cell_type": "code",
      "source": [
        "X = digits.data # 이미지. 즉 특성 행렬 \n",
        "Y = digits.target # 각 이미지에 대한 레이블 "
      ],
      "metadata": {
        "id": "jipnvL_--Cq1"
      },
      "execution_count": null,
      "outputs": []
    },
    {
      "cell_type": "code",
      "source": [
        "# 2. 다층 퍼셉트론 분류기 만들기 \n",
        "import torch \n",
        "import torch.nn as nn \n",
        "from torch import optim "
      ],
      "metadata": {
        "id": "M4Xrtkw0-Lq5"
      },
      "execution_count": null,
      "outputs": []
    },
    {
      "cell_type": "code",
      "source": [
        "model = nn.Sequential(\n",
        "    nn.Linear(64,32), # input_layer = 64, hidden_layer1 = 32\n",
        "    nn.ReLU(), \n",
        "    nn.Linear(32, 16), # hidden_layer2 = 32, hiddne_layer3= 16 \n",
        "    nn.ReLU(), \n",
        "    nn.Linear(16, 10) # hidden_layer3 = 16, output_layer=10 \n",
        ")"
      ],
      "metadata": {
        "id": "2nT2CWXF-SC9"
      },
      "execution_count": null,
      "outputs": []
    },
    {
      "cell_type": "code",
      "source": [
        "X = torch.tensor(X, dtype=torch.float32) \n",
        "Y = torch.tensor(Y, dtype=torch.int64)"
      ],
      "metadata": {
        "id": "UuWAxuli-obh"
      },
      "execution_count": null,
      "outputs": []
    },
    {
      "cell_type": "code",
      "source": [
        "loss_fn = nn.CrossEntropyLoss() # 이 비용함수는 소프트맥스 함수를 포함하고 있음. "
      ],
      "metadata": {
        "id": "sSYd0WmL-vf6"
      },
      "execution_count": null,
      "outputs": []
    },
    {
      "cell_type": "code",
      "source": [
        "optimizer = optim.Adam(model.parameters()) "
      ],
      "metadata": {
        "id": "PjxE9nZL-09X"
      },
      "execution_count": null,
      "outputs": []
    },
    {
      "cell_type": "code",
      "source": [
        "losses = []"
      ],
      "metadata": {
        "id": "PNVJu0YS-41d"
      },
      "execution_count": null,
      "outputs": []
    },
    {
      "cell_type": "code",
      "source": [
        "for epoch in range(100): \n",
        "    optimizer.zero_grad() \n",
        "    y_pred = model(X) # forwar 연산 \n",
        "    loss = loss_fn(y_pred, Y) \n",
        "    loss.backward() \n",
        "    optimizer.step() \n",
        "\n",
        "    if epoch % 10 == 0: \n",
        "        print('Epoch {:4d}/{} Cost: {:.6f}'.format(\n",
        "            epoch, 100, loss.item()\n",
        "        ))\n",
        "\n",
        "    losses.append(loss.item())"
      ],
      "metadata": {
        "colab": {
          "base_uri": "https://localhost:8080/"
        },
        "id": "-_GU2qWx-6BN",
        "outputId": "35de845a-aad5-461c-e69e-2a0f221e186b"
      },
      "execution_count": null,
      "outputs": [
        {
          "output_type": "stream",
          "name": "stdout",
          "text": [
            "Epoch    0/100 Cost: 0.271643\n",
            "Epoch   10/100 Cost: 0.217505\n",
            "Epoch   20/100 Cost: 0.181575\n",
            "Epoch   30/100 Cost: 0.155529\n",
            "Epoch   40/100 Cost: 0.135846\n",
            "Epoch   50/100 Cost: 0.120314\n",
            "Epoch   60/100 Cost: 0.107502\n",
            "Epoch   70/100 Cost: 0.096702\n",
            "Epoch   80/100 Cost: 0.087447\n",
            "Epoch   90/100 Cost: 0.079423\n"
          ]
        }
      ]
    },
    {
      "cell_type": "code",
      "source": [
        "plt.plot(losses)"
      ],
      "metadata": {
        "colab": {
          "base_uri": "https://localhost:8080/",
          "height": 282
        },
        "id": "LS_iGtlW_SDB",
        "outputId": "470a53fe-d161-4c92-edb6-8c2807024f4a"
      },
      "execution_count": null,
      "outputs": [
        {
          "output_type": "execute_result",
          "data": {
            "text/plain": [
              "[<matplotlib.lines.Line2D at 0x7fd8b9fcd610>]"
            ]
          },
          "metadata": {},
          "execution_count": 38
        },
        {
          "output_type": "display_data",
          "data": {
            "text/plain": [
              "<Figure size 432x288 with 1 Axes>"
            ],
            "image/png": "[encoded data removed]"
          },
          "metadata": {
            "needs_background": "light"
          }
        }
      ]
    },
    {
      "cell_type": "markdown",
      "source": [
        "####**08. 다층퍼셉트론으로 MNIST 분류하기**"
      ],
      "metadata": {
        "id": "9gJXY8Ra_xRI"
      }
    },
    {
      "cell_type": "code",
      "source": [
        "import numpy as np \n",
        "import matplotlib.pyplot as plt \n",
        "%matplotlib inline \n",
        "from sklearn.datasets import fetch_openml"
      ],
      "metadata": {
        "id": "80RKLl7y_ddA"
      },
      "execution_count": null,
      "outputs": []
    },
    {
      "cell_type": "code",
      "source": [
        "mnist = fetch_openml('mnist_784', version=1, cache=True)"
      ],
      "metadata": {
        "id": "njM6oH00_977"
      },
      "execution_count": null,
      "outputs": []
    },
    {
      "cell_type": "code",
      "source": [
        "print(mnist.data[0])"
      ],
      "metadata": {
        "colab": {
          "base_uri": "https://localhost:8080/",
          "height": 494
        },
        "id": "lBFdUkGFAT1e",
        "outputId": "5db8a62d-a3fe-40e8-e048-3d2a76807634"
      },
      "execution_count": null,
      "outputs": [
        {
          "output_type": "error",
          "ename": "KeyError",
          "evalue": "ignored",
          "traceback": [
            "\u001b[0;31m---------------------------------------------------------------------------\u001b[0m",
            "\u001b[0;31mKeyError\u001b[0m                                  Traceback (most recent call last)",
            "\u001b[0;32m/usr/local/lib/python3.7/dist-packages/pandas/core/indexes/base.py\u001b[0m in \u001b[0;36mget_loc\u001b[0;34m(self, key, method, tolerance)\u001b[0m\n\u001b[1;32m   3360\u001b[0m             \u001b[0;32mtry\u001b[0m\u001b[0;34m:\u001b[0m\u001b[0;34m\u001b[0m\u001b[0;34m\u001b[0m\u001b[0m\n\u001b[0;32m-> 3361\u001b[0;31m                 \u001b[0;32mreturn\u001b[0m \u001b[0mself\u001b[0m\u001b[0;34m.\u001b[0m\u001b[0m_engine\u001b[0m\u001b[0;34m.\u001b[0m\u001b[0mget_loc\u001b[0m\u001b[0;34m(\u001b[0m\u001b[0mcasted_key\u001b[0m\u001b[0;34m)\u001b[0m\u001b[0;34m\u001b[0m\u001b[0;34m\u001b[0m\u001b[0m\n\u001b[0m\u001b[1;32m   3362\u001b[0m             \u001b[0;32mexcept\u001b[0m \u001b[0mKeyError\u001b[0m \u001b[0;32mas\u001b[0m \u001b[0merr\u001b[0m\u001b[0;34m:\u001b[0m\u001b[0;34m\u001b[0m\u001b[0;34m\u001b[0m\u001b[0m\n",
            "\u001b[0;32m/usr/local/lib/python3.7/dist-packages/pandas/_libs/index.pyx\u001b[0m in \u001b[0;36mpandas._libs.index.IndexEngine.get_loc\u001b[0;34m()\u001b[0m\n",
            "\u001b[0;32m/usr/local/lib/python3.7/dist-packages/pandas/_libs/index.pyx\u001b[0m in \u001b[0;36mpandas._libs.index.IndexEngine.get_loc\u001b[0;34m()\u001b[0m\n",
            "\u001b[0;32mpandas/_libs/hashtable_class_helper.pxi\u001b[0m in \u001b[0;36mpandas._libs.hashtable.PyObjectHashTable.get_item\u001b[0;34m()\u001b[0m\n",
            "\u001b[0;32mpandas/_libs/hashtable_class_helper.pxi\u001b[0m in \u001b[0;36mpandas._libs.hashtable.PyObjectHashTable.get_item\u001b[0;34m()\u001b[0m\n",
            "\u001b[0;31mKeyError\u001b[0m: 0",
            "\nThe above exception was the direct cause of the following exception:\n",
            "\u001b[0;31mKeyError\u001b[0m                                  Traceback (most recent call last)",
            "\u001b[0;32m<ipython-input-20-be0de3b65e86>\u001b[0m in \u001b[0;36m<module>\u001b[0;34m\u001b[0m\n\u001b[0;32m----> 1\u001b[0;31m \u001b[0mprint\u001b[0m\u001b[0;34m(\u001b[0m\u001b[0mmnist\u001b[0m\u001b[0;34m.\u001b[0m\u001b[0mdata\u001b[0m\u001b[0;34m[\u001b[0m\u001b[0;36m0\u001b[0m\u001b[0;34m]\u001b[0m\u001b[0;34m)\u001b[0m\u001b[0;34m\u001b[0m\u001b[0;34m\u001b[0m\u001b[0m\n\u001b[0m",
            "\u001b[0;32m/usr/local/lib/python3.7/dist-packages/pandas/core/frame.py\u001b[0m in \u001b[0;36m__getitem__\u001b[0;34m(self, key)\u001b[0m\n\u001b[1;32m   3456\u001b[0m             \u001b[0;32mif\u001b[0m \u001b[0mself\u001b[0m\u001b[0;34m.\u001b[0m\u001b[0mcolumns\u001b[0m\u001b[0;34m.\u001b[0m\u001b[0mnlevels\u001b[0m \u001b[0;34m>\u001b[0m \u001b[0;36m1\u001b[0m\u001b[0;34m:\u001b[0m\u001b[0;34m\u001b[0m\u001b[0;34m\u001b[0m\u001b[0m\n\u001b[1;32m   3457\u001b[0m                 \u001b[0;32mreturn\u001b[0m \u001b[0mself\u001b[0m\u001b[0;34m.\u001b[0m\u001b[0m_getitem_multilevel\u001b[0m\u001b[0;34m(\u001b[0m\u001b[0mkey\u001b[0m\u001b[0;34m)\u001b[0m\u001b[0;34m\u001b[0m\u001b[0;34m\u001b[0m\u001b[0m\n\u001b[0;32m-> 3458\u001b[0;31m             \u001b[0mindexer\u001b[0m \u001b[0;34m=\u001b[0m \u001b[0mself\u001b[0m\u001b[0;34m.\u001b[0m\u001b[0mcolumns\u001b[0m\u001b[0;34m.\u001b[0m\u001b[0mget_loc\u001b[0m\u001b[0;34m(\u001b[0m\u001b[0mkey\u001b[0m\u001b[0;34m)\u001b[0m\u001b[0;34m\u001b[0m\u001b[0;34m\u001b[0m\u001b[0m\n\u001b[0m\u001b[1;32m   3459\u001b[0m             \u001b[0;32mif\u001b[0m \u001b[0mis_integer\u001b[0m\u001b[0;34m(\u001b[0m\u001b[0mindexer\u001b[0m\u001b[0;34m)\u001b[0m\u001b[0;34m:\u001b[0m\u001b[0;34m\u001b[0m\u001b[0;34m\u001b[0m\u001b[0m\n\u001b[1;32m   3460\u001b[0m                 \u001b[0mindexer\u001b[0m \u001b[0;34m=\u001b[0m \u001b[0;34m[\u001b[0m\u001b[0mindexer\u001b[0m\u001b[0;34m]\u001b[0m\u001b[0;34m\u001b[0m\u001b[0;34m\u001b[0m\u001b[0m\n",
            "\u001b[0;32m/usr/local/lib/python3.7/dist-packages/pandas/core/indexes/base.py\u001b[0m in \u001b[0;36mget_loc\u001b[0;34m(self, key, method, tolerance)\u001b[0m\n\u001b[1;32m   3361\u001b[0m                 \u001b[0;32mreturn\u001b[0m \u001b[0mself\u001b[0m\u001b[0;34m.\u001b[0m\u001b[0m_engine\u001b[0m\u001b[0;34m.\u001b[0m\u001b[0mget_loc\u001b[0m\u001b[0;34m(\u001b[0m\u001b[0mcasted_key\u001b[0m\u001b[0;34m)\u001b[0m\u001b[0;34m\u001b[0m\u001b[0;34m\u001b[0m\u001b[0m\n\u001b[1;32m   3362\u001b[0m             \u001b[0;32mexcept\u001b[0m \u001b[0mKeyError\u001b[0m \u001b[0;32mas\u001b[0m \u001b[0merr\u001b[0m\u001b[0;34m:\u001b[0m\u001b[0;34m\u001b[0m\u001b[0;34m\u001b[0m\u001b[0m\n\u001b[0;32m-> 3363\u001b[0;31m                 \u001b[0;32mraise\u001b[0m \u001b[0mKeyError\u001b[0m\u001b[0;34m(\u001b[0m\u001b[0mkey\u001b[0m\u001b[0;34m)\u001b[0m \u001b[0;32mfrom\u001b[0m \u001b[0merr\u001b[0m\u001b[0;34m\u001b[0m\u001b[0;34m\u001b[0m\u001b[0m\n\u001b[0m\u001b[1;32m   3364\u001b[0m \u001b[0;34m\u001b[0m\u001b[0m\n\u001b[1;32m   3365\u001b[0m         \u001b[0;32mif\u001b[0m \u001b[0mis_scalar\u001b[0m\u001b[0;34m(\u001b[0m\u001b[0mkey\u001b[0m\u001b[0;34m)\u001b[0m \u001b[0;32mand\u001b[0m \u001b[0misna\u001b[0m\u001b[0;34m(\u001b[0m\u001b[0mkey\u001b[0m\u001b[0;34m)\u001b[0m \u001b[0;32mand\u001b[0m \u001b[0;32mnot\u001b[0m \u001b[0mself\u001b[0m\u001b[0;34m.\u001b[0m\u001b[0mhasnans\u001b[0m\u001b[0;34m:\u001b[0m\u001b[0;34m\u001b[0m\u001b[0;34m\u001b[0m\u001b[0m\n",
            "\u001b[0;31mKeyError\u001b[0m: 0"
          ]
        }
      ]
    },
    {
      "cell_type": "code",
      "source": [
        "mnist.target[0]"
      ],
      "metadata": {
        "colab": {
          "base_uri": "https://localhost:8080/",
          "height": 37
        },
        "id": "iFUY5fjiBhre",
        "outputId": "81b75ec8-d43b-4526-ee56-17c6921a6ad7"
      },
      "execution_count": null,
      "outputs": [
        {
          "output_type": "execute_result",
          "data": {
            "text/plain": [
              "'5'"
            ],
            "application/vnd.google.colaboratory.intrinsic+json": {
              "type": "string"
            }
          },
          "metadata": {},
          "execution_count": 11
        }
      ]
    },
    {
      "cell_type": "code",
      "source": [
        "mnist.target = mnist.target.astype(np.int8)"
      ],
      "metadata": {
        "id": "6IRiupTsCFSo"
      },
      "execution_count": null,
      "outputs": []
    },
    {
      "cell_type": "code",
      "source": [
        "X = mnist.data / 255 #0-255 값을 [0,1] 구간으로 정규화\n",
        "y = mnist.target"
      ],
      "metadata": {
        "id": "eANhST_mCYEX"
      },
      "execution_count": null,
      "outputs": []
    },
    {
      "cell_type": "code",
      "source": [
        "X[0]"
      ],
      "metadata": {
        "colab": {
          "base_uri": "https://localhost:8080/",
          "height": 494
        },
        "id": "tbZNyV60CgtB",
        "outputId": "2892c890-28d0-4dea-9311-a813edda2a37"
      },
      "execution_count": null,
      "outputs": [
        {
          "output_type": "error",
          "ename": "KeyError",
          "evalue": "ignored",
          "traceback": [
            "\u001b[0;31m---------------------------------------------------------------------------\u001b[0m",
            "\u001b[0;31mKeyError\u001b[0m                                  Traceback (most recent call last)",
            "\u001b[0;32m/usr/local/lib/python3.7/dist-packages/pandas/core/indexes/base.py\u001b[0m in \u001b[0;36mget_loc\u001b[0;34m(self, key, method, tolerance)\u001b[0m\n\u001b[1;32m   3360\u001b[0m             \u001b[0;32mtry\u001b[0m\u001b[0;34m:\u001b[0m\u001b[0;34m\u001b[0m\u001b[0;34m\u001b[0m\u001b[0m\n\u001b[0;32m-> 3361\u001b[0;31m                 \u001b[0;32mreturn\u001b[0m \u001b[0mself\u001b[0m\u001b[0;34m.\u001b[0m\u001b[0m_engine\u001b[0m\u001b[0;34m.\u001b[0m\u001b[0mget_loc\u001b[0m\u001b[0;34m(\u001b[0m\u001b[0mcasted_key\u001b[0m\u001b[0;34m)\u001b[0m\u001b[0;34m\u001b[0m\u001b[0;34m\u001b[0m\u001b[0m\n\u001b[0m\u001b[1;32m   3362\u001b[0m             \u001b[0;32mexcept\u001b[0m \u001b[0mKeyError\u001b[0m \u001b[0;32mas\u001b[0m \u001b[0merr\u001b[0m\u001b[0;34m:\u001b[0m\u001b[0;34m\u001b[0m\u001b[0;34m\u001b[0m\u001b[0m\n",
            "\u001b[0;32m/usr/local/lib/python3.7/dist-packages/pandas/_libs/index.pyx\u001b[0m in \u001b[0;36mpandas._libs.index.IndexEngine.get_loc\u001b[0;34m()\u001b[0m\n",
            "\u001b[0;32m/usr/local/lib/python3.7/dist-packages/pandas/_libs/index.pyx\u001b[0m in \u001b[0;36mpandas._libs.index.IndexEngine.get_loc\u001b[0;34m()\u001b[0m\n",
            "\u001b[0;32mpandas/_libs/hashtable_class_helper.pxi\u001b[0m in \u001b[0;36mpandas._libs.hashtable.PyObjectHashTable.get_item\u001b[0;34m()\u001b[0m\n",
            "\u001b[0;32mpandas/_libs/hashtable_class_helper.pxi\u001b[0m in \u001b[0;36mpandas._libs.hashtable.PyObjectHashTable.get_item\u001b[0;34m()\u001b[0m\n",
            "\u001b[0;31mKeyError\u001b[0m: 0",
            "\nThe above exception was the direct cause of the following exception:\n",
            "\u001b[0;31mKeyError\u001b[0m                                  Traceback (most recent call last)",
            "\u001b[0;32m<ipython-input-14-19c40ecbd036>\u001b[0m in \u001b[0;36m<module>\u001b[0;34m\u001b[0m\n\u001b[0;32m----> 1\u001b[0;31m \u001b[0mX\u001b[0m\u001b[0;34m[\u001b[0m\u001b[0;36m0\u001b[0m\u001b[0;34m]\u001b[0m\u001b[0;34m\u001b[0m\u001b[0;34m\u001b[0m\u001b[0m\n\u001b[0m",
            "\u001b[0;32m/usr/local/lib/python3.7/dist-packages/pandas/core/frame.py\u001b[0m in \u001b[0;36m__getitem__\u001b[0;34m(self, key)\u001b[0m\n\u001b[1;32m   3456\u001b[0m             \u001b[0;32mif\u001b[0m \u001b[0mself\u001b[0m\u001b[0;34m.\u001b[0m\u001b[0mcolumns\u001b[0m\u001b[0;34m.\u001b[0m\u001b[0mnlevels\u001b[0m \u001b[0;34m>\u001b[0m \u001b[0;36m1\u001b[0m\u001b[0;34m:\u001b[0m\u001b[0;34m\u001b[0m\u001b[0;34m\u001b[0m\u001b[0m\n\u001b[1;32m   3457\u001b[0m                 \u001b[0;32mreturn\u001b[0m \u001b[0mself\u001b[0m\u001b[0;34m.\u001b[0m\u001b[0m_getitem_multilevel\u001b[0m\u001b[0;34m(\u001b[0m\u001b[0mkey\u001b[0m\u001b[0;34m)\u001b[0m\u001b[0;34m\u001b[0m\u001b[0;34m\u001b[0m\u001b[0m\n\u001b[0;32m-> 3458\u001b[0;31m             \u001b[0mindexer\u001b[0m \u001b[0;34m=\u001b[0m \u001b[0mself\u001b[0m\u001b[0;34m.\u001b[0m\u001b[0mcolumns\u001b[0m\u001b[0;34m.\u001b[0m\u001b[0mget_loc\u001b[0m\u001b[0;34m(\u001b[0m\u001b[0mkey\u001b[0m\u001b[0;34m)\u001b[0m\u001b[0;34m\u001b[0m\u001b[0;34m\u001b[0m\u001b[0m\n\u001b[0m\u001b[1;32m   3459\u001b[0m             \u001b[0;32mif\u001b[0m \u001b[0mis_integer\u001b[0m\u001b[0;34m(\u001b[0m\u001b[0mindexer\u001b[0m\u001b[0;34m)\u001b[0m\u001b[0;34m:\u001b[0m\u001b[0;34m\u001b[0m\u001b[0;34m\u001b[0m\u001b[0m\n\u001b[1;32m   3460\u001b[0m                 \u001b[0mindexer\u001b[0m \u001b[0;34m=\u001b[0m \u001b[0;34m[\u001b[0m\u001b[0mindexer\u001b[0m\u001b[0;34m]\u001b[0m\u001b[0;34m\u001b[0m\u001b[0;34m\u001b[0m\u001b[0m\n",
            "\u001b[0;32m/usr/local/lib/python3.7/dist-packages/pandas/core/indexes/base.py\u001b[0m in \u001b[0;36mget_loc\u001b[0;34m(self, key, method, tolerance)\u001b[0m\n\u001b[1;32m   3361\u001b[0m                 \u001b[0;32mreturn\u001b[0m \u001b[0mself\u001b[0m\u001b[0;34m.\u001b[0m\u001b[0m_engine\u001b[0m\u001b[0;34m.\u001b[0m\u001b[0mget_loc\u001b[0m\u001b[0;34m(\u001b[0m\u001b[0mcasted_key\u001b[0m\u001b[0;34m)\u001b[0m\u001b[0;34m\u001b[0m\u001b[0;34m\u001b[0m\u001b[0m\n\u001b[1;32m   3362\u001b[0m             \u001b[0;32mexcept\u001b[0m \u001b[0mKeyError\u001b[0m \u001b[0;32mas\u001b[0m \u001b[0merr\u001b[0m\u001b[0;34m:\u001b[0m\u001b[0;34m\u001b[0m\u001b[0;34m\u001b[0m\u001b[0m\n\u001b[0;32m-> 3363\u001b[0;31m                 \u001b[0;32mraise\u001b[0m \u001b[0mKeyError\u001b[0m\u001b[0;34m(\u001b[0m\u001b[0mkey\u001b[0m\u001b[0;34m)\u001b[0m \u001b[0;32mfrom\u001b[0m \u001b[0merr\u001b[0m\u001b[0;34m\u001b[0m\u001b[0;34m\u001b[0m\u001b[0m\n\u001b[0m\u001b[1;32m   3364\u001b[0m \u001b[0;34m\u001b[0m\u001b[0m\n\u001b[1;32m   3365\u001b[0m         \u001b[0;32mif\u001b[0m \u001b[0mis_scalar\u001b[0m\u001b[0;34m(\u001b[0m\u001b[0mkey\u001b[0m\u001b[0;34m)\u001b[0m \u001b[0;32mand\u001b[0m \u001b[0misna\u001b[0m\u001b[0;34m(\u001b[0m\u001b[0mkey\u001b[0m\u001b[0;34m)\u001b[0m \u001b[0;32mand\u001b[0m \u001b[0;32mnot\u001b[0m \u001b[0mself\u001b[0m\u001b[0;34m.\u001b[0m\u001b[0mhasnans\u001b[0m\u001b[0;34m:\u001b[0m\u001b[0;34m\u001b[0m\u001b[0;34m\u001b[0m\u001b[0m\n",
            "\u001b[0;31mKeyError\u001b[0m: 0"
          ]
        }
      ]
    },
    {
      "cell_type": "code",
      "source": [
        "y[0]"
      ],
      "metadata": {
        "colab": {
          "base_uri": "https://localhost:8080/"
        },
        "id": "gEfmmjVjCh5A",
        "outputId": "184fb3bb-0553-4929-962c-9f8cfac3b58a"
      },
      "execution_count": null,
      "outputs": [
        {
          "output_type": "execute_result",
          "data": {
            "text/plain": [
              "5"
            ]
          },
          "metadata": {},
          "execution_count": 21
        }
      ]
    },
    {
      "cell_type": "code",
      "source": [
        "plt.imshow(X[0].reshape(28,28), cmap='gray')\n",
        "print('이 이미지 데이터 레이블은 {:.0f}이다'.format(y[0]))"
      ],
      "metadata": {
        "colab": {
          "base_uri": "https://localhost:8080/",
          "height": 494
        },
        "id": "43CnDIF8EOe7",
        "outputId": "5f034f37-d3d2-4d93-8709-e8360ee4647b"
      },
      "execution_count": null,
      "outputs": [
        {
          "output_type": "error",
          "ename": "KeyError",
          "evalue": "ignored",
          "traceback": [
            "\u001b[0;31m---------------------------------------------------------------------------\u001b[0m",
            "\u001b[0;31mKeyError\u001b[0m                                  Traceback (most recent call last)",
            "\u001b[0;32m/usr/local/lib/python3.7/dist-packages/pandas/core/indexes/base.py\u001b[0m in \u001b[0;36mget_loc\u001b[0;34m(self, key, method, tolerance)\u001b[0m\n\u001b[1;32m   3360\u001b[0m             \u001b[0;32mtry\u001b[0m\u001b[0;34m:\u001b[0m\u001b[0;34m\u001b[0m\u001b[0;34m\u001b[0m\u001b[0m\n\u001b[0;32m-> 3361\u001b[0;31m                 \u001b[0;32mreturn\u001b[0m \u001b[0mself\u001b[0m\u001b[0;34m.\u001b[0m\u001b[0m_engine\u001b[0m\u001b[0;34m.\u001b[0m\u001b[0mget_loc\u001b[0m\u001b[0;34m(\u001b[0m\u001b[0mcasted_key\u001b[0m\u001b[0;34m)\u001b[0m\u001b[0;34m\u001b[0m\u001b[0;34m\u001b[0m\u001b[0m\n\u001b[0m\u001b[1;32m   3362\u001b[0m             \u001b[0;32mexcept\u001b[0m \u001b[0mKeyError\u001b[0m \u001b[0;32mas\u001b[0m \u001b[0merr\u001b[0m\u001b[0;34m:\u001b[0m\u001b[0;34m\u001b[0m\u001b[0;34m\u001b[0m\u001b[0m\n",
            "\u001b[0;32m/usr/local/lib/python3.7/dist-packages/pandas/_libs/index.pyx\u001b[0m in \u001b[0;36mpandas._libs.index.IndexEngine.get_loc\u001b[0;34m()\u001b[0m\n",
            "\u001b[0;32m/usr/local/lib/python3.7/dist-packages/pandas/_libs/index.pyx\u001b[0m in \u001b[0;36mpandas._libs.index.IndexEngine.get_loc\u001b[0;34m()\u001b[0m\n",
            "\u001b[0;32mpandas/_libs/hashtable_class_helper.pxi\u001b[0m in \u001b[0;36mpandas._libs.hashtable.PyObjectHashTable.get_item\u001b[0;34m()\u001b[0m\n",
            "\u001b[0;32mpandas/_libs/hashtable_class_helper.pxi\u001b[0m in \u001b[0;36mpandas._libs.hashtable.PyObjectHashTable.get_item\u001b[0;34m()\u001b[0m\n",
            "\u001b[0;31mKeyError\u001b[0m: 0",
            "\nThe above exception was the direct cause of the following exception:\n",
            "\u001b[0;31mKeyError\u001b[0m                                  Traceback (most recent call last)",
            "\u001b[0;32m<ipython-input-23-04cc004567eb>\u001b[0m in \u001b[0;36m<module>\u001b[0;34m\u001b[0m\n\u001b[0;32m----> 1\u001b[0;31m \u001b[0mplt\u001b[0m\u001b[0;34m.\u001b[0m\u001b[0mimshow\u001b[0m\u001b[0;34m(\u001b[0m\u001b[0mX\u001b[0m\u001b[0;34m[\u001b[0m\u001b[0;36m0\u001b[0m\u001b[0;34m]\u001b[0m\u001b[0;34m.\u001b[0m\u001b[0mreshape\u001b[0m\u001b[0;34m(\u001b[0m\u001b[0;36m28\u001b[0m\u001b[0;34m,\u001b[0m\u001b[0;36m28\u001b[0m\u001b[0;34m)\u001b[0m\u001b[0;34m,\u001b[0m \u001b[0mcmap\u001b[0m\u001b[0;34m=\u001b[0m\u001b[0;34m'gray'\u001b[0m\u001b[0;34m)\u001b[0m\u001b[0;34m\u001b[0m\u001b[0;34m\u001b[0m\u001b[0m\n\u001b[0m\u001b[1;32m      2\u001b[0m \u001b[0mprint\u001b[0m\u001b[0;34m(\u001b[0m\u001b[0;34m'이 이미지 데이터 레이블은 {:.0f}이다'\u001b[0m\u001b[0;34m.\u001b[0m\u001b[0mformat\u001b[0m\u001b[0;34m(\u001b[0m\u001b[0my\u001b[0m\u001b[0;34m[\u001b[0m\u001b[0;36m0\u001b[0m\u001b[0;34m]\u001b[0m\u001b[0;34m)\u001b[0m\u001b[0;34m)\u001b[0m\u001b[0;34m\u001b[0m\u001b[0;34m\u001b[0m\u001b[0m\n",
            "\u001b[0;32m/usr/local/lib/python3.7/dist-packages/pandas/core/frame.py\u001b[0m in \u001b[0;36m__getitem__\u001b[0;34m(self, key)\u001b[0m\n\u001b[1;32m   3456\u001b[0m             \u001b[0;32mif\u001b[0m \u001b[0mself\u001b[0m\u001b[0;34m.\u001b[0m\u001b[0mcolumns\u001b[0m\u001b[0;34m.\u001b[0m\u001b[0mnlevels\u001b[0m \u001b[0;34m>\u001b[0m \u001b[0;36m1\u001b[0m\u001b[0;34m:\u001b[0m\u001b[0;34m\u001b[0m\u001b[0;34m\u001b[0m\u001b[0m\n\u001b[1;32m   3457\u001b[0m                 \u001b[0;32mreturn\u001b[0m \u001b[0mself\u001b[0m\u001b[0;34m.\u001b[0m\u001b[0m_getitem_multilevel\u001b[0m\u001b[0;34m(\u001b[0m\u001b[0mkey\u001b[0m\u001b[0;34m)\u001b[0m\u001b[0;34m\u001b[0m\u001b[0;34m\u001b[0m\u001b[0m\n\u001b[0;32m-> 3458\u001b[0;31m             \u001b[0mindexer\u001b[0m \u001b[0;34m=\u001b[0m \u001b[0mself\u001b[0m\u001b[0;34m.\u001b[0m\u001b[0mcolumns\u001b[0m\u001b[0;34m.\u001b[0m\u001b[0mget_loc\u001b[0m\u001b[0;34m(\u001b[0m\u001b[0mkey\u001b[0m\u001b[0;34m)\u001b[0m\u001b[0;34m\u001b[0m\u001b[0;34m\u001b[0m\u001b[0m\n\u001b[0m\u001b[1;32m   3459\u001b[0m             \u001b[0;32mif\u001b[0m \u001b[0mis_integer\u001b[0m\u001b[0;34m(\u001b[0m\u001b[0mindexer\u001b[0m\u001b[0;34m)\u001b[0m\u001b[0;34m:\u001b[0m\u001b[0;34m\u001b[0m\u001b[0;34m\u001b[0m\u001b[0m\n\u001b[1;32m   3460\u001b[0m                 \u001b[0mindexer\u001b[0m \u001b[0;34m=\u001b[0m \u001b[0;34m[\u001b[0m\u001b[0mindexer\u001b[0m\u001b[0;34m]\u001b[0m\u001b[0;34m\u001b[0m\u001b[0;34m\u001b[0m\u001b[0m\n",
            "\u001b[0;32m/usr/local/lib/python3.7/dist-packages/pandas/core/indexes/base.py\u001b[0m in \u001b[0;36mget_loc\u001b[0;34m(self, key, method, tolerance)\u001b[0m\n\u001b[1;32m   3361\u001b[0m                 \u001b[0;32mreturn\u001b[0m \u001b[0mself\u001b[0m\u001b[0;34m.\u001b[0m\u001b[0m_engine\u001b[0m\u001b[0;34m.\u001b[0m\u001b[0mget_loc\u001b[0m\u001b[0;34m(\u001b[0m\u001b[0mcasted_key\u001b[0m\u001b[0;34m)\u001b[0m\u001b[0;34m\u001b[0m\u001b[0;34m\u001b[0m\u001b[0m\n\u001b[1;32m   3362\u001b[0m             \u001b[0;32mexcept\u001b[0m \u001b[0mKeyError\u001b[0m \u001b[0;32mas\u001b[0m \u001b[0merr\u001b[0m\u001b[0;34m:\u001b[0m\u001b[0;34m\u001b[0m\u001b[0;34m\u001b[0m\u001b[0m\n\u001b[0;32m-> 3363\u001b[0;31m                 \u001b[0;32mraise\u001b[0m \u001b[0mKeyError\u001b[0m\u001b[0;34m(\u001b[0m\u001b[0mkey\u001b[0m\u001b[0;34m)\u001b[0m \u001b[0;32mfrom\u001b[0m \u001b[0merr\u001b[0m\u001b[0;34m\u001b[0m\u001b[0;34m\u001b[0m\u001b[0m\n\u001b[0m\u001b[1;32m   3364\u001b[0m \u001b[0;34m\u001b[0m\u001b[0m\n\u001b[1;32m   3365\u001b[0m         \u001b[0;32mif\u001b[0m \u001b[0mis_scalar\u001b[0m\u001b[0;34m(\u001b[0m\u001b[0mkey\u001b[0m\u001b[0;34m)\u001b[0m \u001b[0;32mand\u001b[0m \u001b[0misna\u001b[0m\u001b[0;34m(\u001b[0m\u001b[0mkey\u001b[0m\u001b[0;34m)\u001b[0m \u001b[0;32mand\u001b[0m \u001b[0;32mnot\u001b[0m \u001b[0mself\u001b[0m\u001b[0;34m.\u001b[0m\u001b[0mhasnans\u001b[0m\u001b[0;34m:\u001b[0m\u001b[0;34m\u001b[0m\u001b[0;34m\u001b[0m\u001b[0m\n",
            "\u001b[0;31mKeyError\u001b[0m: 0"
          ]
        }
      ]
    },
    {
      "cell_type": "markdown",
      "source": [
        "####**09.과적합(Overfitting)막는 방법들**"
      ],
      "metadata": {
        "id": "6jAd1iIPHZEx"
      }
    },
    {
      "cell_type": "code",
      "source": [
        "# 2. 모델의 복잡도 줄이기 \n",
        "class Architecturel(nn.Module):\n",
        "    def __init__(self, input_size, hidden_size, num_classes): \n",
        "        super(Architecturel, self).__init__() \n",
        "        self.fc1 = nn.Linear(input_size, hidden_size) \n",
        "        self.relu = nn.ReLU() \n",
        "        self.fc2 = nn.Linear(hidden_size, hidden_size) \n",
        "        self.relu = nnReLU() \n",
        "        self.fc3 = nn.Linear(hidden_size, num_classes) \n",
        "\n",
        "    def forward(self, x): \n",
        "        out = self.fc1(x) \n",
        "        out = self.relu(out) \n",
        "        out = self.fc2(out) \n",
        "        out = self.relu(out) \n",
        "        out = self.fc3(out) \n",
        "        return out "
      ],
      "metadata": {
        "id": "G7YnOzdTEZQb"
      },
      "execution_count": null,
      "outputs": []
    },
    {
      "cell_type": "code",
      "source": [
        "class Architecturel(nn.Module):\n",
        "    def __init__(self, input_size, hidden_size, num_classes):\n",
        "        super(Architecturel, self).__init__() \n",
        "        self.fc1=nn.Linear(input_size, hidden_size) \n",
        "        self.relu = nn.ReLU() \n",
        "        self.fc2 = nn.Linear(hidden_size, num_classes) \n",
        "\n",
        "    def forward(self, x): \n",
        "        out = self.fc1(x) \n",
        "        out = self.relut(out) \n",
        "        out = self.fc2(out) \n",
        "        return out "
      ],
      "metadata": {
        "id": "8fXIClzJILNc"
      },
      "execution_count": null,
      "outputs": []
    },
    {
      "cell_type": "code",
      "source": [
        "model = Architecturel(10, 20, 2) \n",
        "optimizer = torch.optim.Adam(model.parameters(), lr=1e-4, weight_decay=1e-5)"
      ],
      "metadata": {
        "id": "wwm0bq1tIuWx"
      },
      "execution_count": null,
      "outputs": []
    },
    {
      "cell_type": "markdown",
      "source": [
        "####**02.CNN으로 MNIST 분류하기**"
      ],
      "metadata": {
        "id": "u1n1IB4XZTLZ"
      }
    },
    {
      "cell_type": "code",
      "source": [
        "# 2. 모델 구현하기 \n",
        "import torch\n",
        "import torch.nn as nn "
      ],
      "metadata": {
        "id": "VQ-PVyfbKNJz"
      },
      "execution_count": null,
      "outputs": []
    },
    {
      "cell_type": "code",
      "source": [
        "# 배치 크기 x 채널 x 높이(height) x 너비(width)의 크기의 텐서를 선언\n",
        "inputs = torch.Tensor(1,1,28,28) \n",
        "print('텐서의 크기 : {}'.format(inputs.shape))"
      ],
      "metadata": {
        "colab": {
          "base_uri": "https://localhost:8080/"
        },
        "id": "YuP7Wd4jbdsI",
        "outputId": "d0d3278e-cb75-4642-a8fe-86f812c22e14"
      },
      "execution_count": null,
      "outputs": [
        {
          "output_type": "stream",
          "name": "stdout",
          "text": [
            "텐서의 크기 : torch.Size([1, 1, 28, 28])\n"
          ]
        }
      ]
    },
    {
      "cell_type": "code",
      "source": [
        "conv1 = nn.Conv2d(1, 32, 3, padding=1)\n",
        "print(conv1)"
      ],
      "metadata": {
        "colab": {
          "base_uri": "https://localhost:8080/"
        },
        "id": "vysicwstbrPv",
        "outputId": "b972c488-1b51-4f0f-ba12-79cad8255b12"
      },
      "execution_count": null,
      "outputs": [
        {
          "output_type": "stream",
          "name": "stdout",
          "text": [
            "Conv2d(1, 32, kernel_size=(3, 3), stride=(1, 1), padding=(1, 1))\n"
          ]
        }
      ]
    },
    {
      "cell_type": "code",
      "source": [
        "conv2 = nn.Conv2d(32, 64, kernel_size=3, padding=1)\n",
        "print(conv2)"
      ],
      "metadata": {
        "colab": {
          "base_uri": "https://localhost:8080/"
        },
        "id": "CZg4OI1KeCjA",
        "outputId": "84826854-e004-4b97-f003-4db219ea9c95"
      },
      "execution_count": null,
      "outputs": [
        {
          "output_type": "stream",
          "name": "stdout",
          "text": [
            "Conv2d(32, 64, kernel_size=(3, 3), stride=(1, 1), padding=(1, 1))\n"
          ]
        }
      ]
    },
    {
      "cell_type": "code",
      "source": [
        "pool = nn.MaxPool2d(2)\n",
        "print(pool)"
      ],
      "metadata": {
        "colab": {
          "base_uri": "https://localhost:8080/"
        },
        "id": "96SiCPjwePQ1",
        "outputId": "514e2626-9fa9-4665-a110-078f6d5e6364"
      },
      "execution_count": null,
      "outputs": [
        {
          "output_type": "stream",
          "name": "stdout",
          "text": [
            "MaxPool2d(kernel_size=2, stride=2, padding=0, dilation=1, ceil_mode=False)\n"
          ]
        }
      ]
    },
    {
      "cell_type": "code",
      "source": [
        "out = conv1(inputs)\n",
        "print(out.shape)"
      ],
      "metadata": {
        "colab": {
          "base_uri": "https://localhost:8080/"
        },
        "id": "qmygd44qfDO8",
        "outputId": "ce0bd958-c539-4fd8-e16d-ea3466cdc775"
      },
      "execution_count": null,
      "outputs": [
        {
          "output_type": "stream",
          "name": "stdout",
          "text": [
            "torch.Size([1, 32, 28, 28])\n"
          ]
        }
      ]
    },
    {
      "cell_type": "code",
      "source": [
        "out = pool(out)\n",
        "print(out.shape)"
      ],
      "metadata": {
        "colab": {
          "base_uri": "https://localhost:8080/"
        },
        "id": "4TVhcB76fMhR",
        "outputId": "515e32a5-ff97-4915-8bc0-5d408d1011da"
      },
      "execution_count": null,
      "outputs": [
        {
          "output_type": "stream",
          "name": "stdout",
          "text": [
            "torch.Size([1, 32, 14, 14])\n"
          ]
        }
      ]
    },
    {
      "cell_type": "code",
      "source": [
        "out = conv2(out)\n",
        "print(out.shape)"
      ],
      "metadata": {
        "colab": {
          "base_uri": "https://localhost:8080/"
        },
        "id": "pPPblwP1fRyx",
        "outputId": "c6762834-4e4e-4d0f-d1bc-e7a4ceb3545a"
      },
      "execution_count": null,
      "outputs": [
        {
          "output_type": "stream",
          "name": "stdout",
          "text": [
            "torch.Size([1, 64, 14, 14])\n"
          ]
        }
      ]
    },
    {
      "cell_type": "code",
      "source": [
        "out = pool(out) \n",
        "print(out.shape)"
      ],
      "metadata": {
        "colab": {
          "base_uri": "https://localhost:8080/"
        },
        "id": "Px83E8KkfVn8",
        "outputId": "68f9e7d6-84fb-4dd0-b754-33ad1ae7ebda"
      },
      "execution_count": null,
      "outputs": [
        {
          "output_type": "stream",
          "name": "stdout",
          "text": [
            "torch.Size([1, 64, 7, 7])\n"
          ]
        }
      ]
    },
    {
      "cell_type": "code",
      "source": [
        "out.size(0)"
      ],
      "metadata": {
        "colab": {
          "base_uri": "https://localhost:8080/"
        },
        "id": "-BKJ_PzlgvXP",
        "outputId": "e68f76a7-7010-4f4e-f7cd-c8788769d20a"
      },
      "execution_count": null,
      "outputs": [
        {
          "output_type": "execute_result",
          "data": {
            "text/plain": [
              "1"
            ]
          },
          "metadata": {},
          "execution_count": 11
        }
      ]
    },
    {
      "cell_type": "code",
      "source": [
        "out.size(1)"
      ],
      "metadata": {
        "colab": {
          "base_uri": "https://localhost:8080/"
        },
        "id": "uTW2Cpgbg30c",
        "outputId": "daa7dd15-da49-4d7b-b321-61e9cc5e76b1"
      },
      "execution_count": null,
      "outputs": [
        {
          "output_type": "execute_result",
          "data": {
            "text/plain": [
              "64"
            ]
          },
          "metadata": {},
          "execution_count": 12
        }
      ]
    },
    {
      "cell_type": "code",
      "source": [
        "out.size(2)"
      ],
      "metadata": {
        "colab": {
          "base_uri": "https://localhost:8080/"
        },
        "id": "vxV3R7oqhD6B",
        "outputId": "868552bc-497d-48bf-cfc6-7a29a85e4be1"
      },
      "execution_count": null,
      "outputs": [
        {
          "output_type": "execute_result",
          "data": {
            "text/plain": [
              "7"
            ]
          },
          "metadata": {},
          "execution_count": 13
        }
      ]
    },
    {
      "cell_type": "code",
      "source": [
        "out.size(3)"
      ],
      "metadata": {
        "colab": {
          "base_uri": "https://localhost:8080/"
        },
        "id": "KKJZdCQRhFML",
        "outputId": "1b94fc01-d1ab-42be-fa2c-78ee932dc5fa"
      },
      "execution_count": null,
      "outputs": [
        {
          "output_type": "execute_result",
          "data": {
            "text/plain": [
              "7"
            ]
          },
          "metadata": {},
          "execution_count": 14
        }
      ]
    },
    {
      "cell_type": "code",
      "source": [
        "# 첫번째 차원인 배치 차원은 그대로 두고 나머지는 펼쳐라 \n",
        "out = out.view(out.size(0), -1)\n",
        "print(out.shape)"
      ],
      "metadata": {
        "colab": {
          "base_uri": "https://localhost:8080/"
        },
        "id": "uem1ZKbfhG7V",
        "outputId": "6d8db185-dab0-429f-8b01-00d99a8b6236"
      },
      "execution_count": null,
      "outputs": [
        {
          "output_type": "stream",
          "name": "stdout",
          "text": [
            "torch.Size([1, 3136])\n"
          ]
        }
      ]
    },
    {
      "cell_type": "code",
      "source": [
        "fc = nn.Linear(3136, 10) # input_dim = 3136, output_dim = 10 \n",
        "out =fc(out)\n",
        "print(out.shape)"
      ],
      "metadata": {
        "colab": {
          "base_uri": "https://localhost:8080/"
        },
        "id": "tVhW9qLVhPLQ",
        "outputId": "7827ba73-1163-4411-ea7f-d341e9c289a7"
      },
      "execution_count": null,
      "outputs": [
        {
          "output_type": "stream",
          "name": "stdout",
          "text": [
            "torch.Size([1, 10])\n"
          ]
        }
      ]
    },
    {
      "cell_type": "markdown",
      "source": [
        "####**3. CNN으로 MNIST 분류하기**"
      ],
      "metadata": {
        "id": "w_SamLnYhzdM"
      }
    },
    {
      "cell_type": "code",
      "source": [
        "import torch\n",
        "import torchvision.datasets as dsets\n",
        "import torchvision.transforms as transforms \n",
        "import torch.nn.init"
      ],
      "metadata": {
        "id": "iQHwCQWZhbW8"
      },
      "execution_count": null,
      "outputs": []
    },
    {
      "cell_type": "code",
      "source": [
        "device = 'cuda' if torch.cuda.is_available() else 'cpu'\n",
        "\n",
        "# 랜덤 시드 고정\n",
        "torch.manual_seed(777)\n",
        "\n",
        "# GPU 사용 가능일 경우 랜덤 시드 고정 \n",
        "if device == 'cuda': \n",
        "    torch.cuda.manual_seed_all(777)"
      ],
      "metadata": {
        "id": "6w_G3nZGiAt_"
      },
      "execution_count": null,
      "outputs": []
    },
    {
      "cell_type": "code",
      "source": [
        "learning_rate = 0.001\n",
        "training_epochs = 15\n",
        "batch_size = 100"
      ],
      "metadata": {
        "id": "WfikTnJwiQAQ"
      },
      "execution_count": null,
      "outputs": []
    },
    {
      "cell_type": "code",
      "source": [
        "mnist_train = dsets.MNIST(root='MNIST_data/', #다운로드 경로 지정\n",
        "                          train=True, # True를 지정하면 훈련 데이터로 다운로드 \n",
        "                          transform=transforms.ToTensor(), #텐서로 변환\n",
        "                          download=True) \n",
        "\n",
        "mnist_test = dsets.MNIST(root='MNIST_data/', #다운로드 경로 지정\n",
        "                         train=False, #False를 지정하면 테스트 데이터로 다운로드\n",
        "                         transform=transforms.ToTensor(), #텐서로 변환 \n",
        "                         download=True) "
      ],
      "metadata": {
        "id": "gIHCBh67iZcR"
      },
      "execution_count": null,
      "outputs": []
    },
    {
      "cell_type": "code",
      "source": [
        "data_loader = torch.utils.data.DataLoader(dataset=mnist_train,\n",
        "                                          batch_size=batch_size,\n",
        "                                          shuffle=True,\n",
        "                                          drop_last=True)"
      ],
      "metadata": {
        "id": "ka-YbmoRiyRL"
      },
      "execution_count": null,
      "outputs": []
    },
    {
      "cell_type": "code",
      "source": [
        "class CNN(torch.nn.Module):\n",
        "\n",
        "    def __init__(self):\n",
        "        super(CNN, self).__init__() \n",
        "        # 첫번째 층 \n",
        "        # ImgIn shape=(?, 28, 28, 1)\n",
        "        #   Conv -> (?, 28, 28, 32)\n",
        "        #   Pool -> (?, 14, 14, 32) \n",
        "        self.layer1 = torch.nn.Sequential(\n",
        "            torch.nn.Conv2d(1, 32, kernel_size=3, stride=1, padding=1),\n",
        "            torch.nn.ReLU(),\n",
        "            torch.nn.MaxPool2d(kernel_size=2, stride=2)) \n",
        "        \n",
        "        # 두번째 층 \n",
        "        # ImgIn shape=(?, 14, 14, 32)\n",
        "        # Conv -> (?, 14, 14, 64) \n",
        "        # Pool -> (?, 7, 7, 64) \n",
        "        self.layer2 = torch.nn.Sequential(\n",
        "            torch.nn.Conv2d(32, 64, kernel_size=3, stride=1, padding=1),\n",
        "            torch.nn.ReLU(),\n",
        "            torch.nn.MaxPool2d(kernel_size=2, stride=2))\n",
        "        \n",
        "        # 전결합층 7x7x64 inputs -> 10 outputs \n",
        "        self.fc = torch.nn.Linear(7*7*64, 10, bias=True) \n",
        "\n",
        "        # 전결합층 한정으로 가중치 초기화 \n",
        "        torch.nn.init.xavier_uniform_(self.fc.weight) \n",
        "\n",
        "    def forward(self, x):\n",
        "        out = self.layer1(x) \n",
        "        out = self.layer2(out) \n",
        "        out = out.view(out.size(0), -1) # 전결합층을 위해서 Flatten \n",
        "        out = self.fc(out) \n",
        "        return out "
      ],
      "metadata": {
        "id": "3sfzdbp9jFs8"
      },
      "execution_count": null,
      "outputs": []
    },
    {
      "cell_type": "code",
      "source": [
        "# CNN 모델 정의 \n",
        "model = CNN().to(device) "
      ],
      "metadata": {
        "id": "vKoiQmwvlbe8"
      },
      "execution_count": null,
      "outputs": []
    },
    {
      "cell_type": "code",
      "source": [
        "criterion = torch.nn.CrossEntropyLoss().to(device) # 비용 함수에 소프트맥스 함수 포함되어져 있음 \n",
        "optimizer = torch.optim.Adam(model.parameters(), lr=learning_rate)"
      ],
      "metadata": {
        "id": "zh4EUTZClrhl"
      },
      "execution_count": null,
      "outputs": []
    },
    {
      "cell_type": "code",
      "source": [
        "total_batch = len(data_loader) \n",
        "print('총 배치의 수: {}'.format(total_batch))"
      ],
      "metadata": {
        "colab": {
          "base_uri": "https://localhost:8080/"
        },
        "id": "Vo7ahCERmSuT",
        "outputId": "a7e93c5e-c72f-40ed-a19f-dfe33342c48a"
      },
      "execution_count": null,
      "outputs": [
        {
          "output_type": "stream",
          "name": "stdout",
          "text": [
            "총 배치의 수: 600\n"
          ]
        }
      ]
    },
    {
      "cell_type": "code",
      "source": [
        "for epoch in range(training_epochs):\n",
        "    avg_cost = 0\n",
        "\n",
        "    for X, Y in data_loader: #미니 배치 단위로 꺼내온다. X는 미니 배치, Y는 레이블 \n",
        "        # image is already size of (28x28), no reshape \n",
        "        # label is not one-hot encoded\n",
        "        X = X.to(device)\n",
        "        Y = Y.to(device) \n",
        "\n",
        "        optimizer.zero_grad() \n",
        "        hypothesis = model(X) \n",
        "        cost = criterion(hypothesis, Y) \n",
        "        cost.backward() \n",
        "        optimizer.step() \n",
        "\n",
        "        avg_cost += cost / total_batch\n",
        "\n",
        "    print('[Epoch: {:>4}] cost = {:>.9}'.format(epoch +1, avg_cost)) "
      ],
      "metadata": {
        "colab": {
          "base_uri": "https://localhost:8080/"
        },
        "id": "w2QtooS1mhAg",
        "outputId": "3c823ea9-6e02-4287-99fc-4310b110d5e4"
      },
      "execution_count": null,
      "outputs": [
        {
          "output_type": "stream",
          "name": "stdout",
          "text": [
            "[Epoch:    1] cost = 0.225254163\n",
            "[Epoch:    2] cost = 0.0599205866\n",
            "[Epoch:    3] cost = 0.0436833389\n",
            "[Epoch:    4] cost = 0.0366153829\n",
            "[Epoch:    5] cost = 0.0301166065\n",
            "[Epoch:    6] cost = 0.0258374438\n",
            "[Epoch:    7] cost = 0.0208862461\n",
            "[Epoch:    8] cost = 0.0180696119\n",
            "[Epoch:    9] cost = 0.0147405583\n",
            "[Epoch:   10] cost = 0.0131593337\n",
            "[Epoch:   11] cost = 0.0109078512\n",
            "[Epoch:   12] cost = 0.0100085605\n",
            "[Epoch:   13] cost = 0.00819577556\n",
            "[Epoch:   14] cost = 0.00646844227\n",
            "[Epoch:   15] cost = 0.00632963609\n"
          ]
        }
      ]
    },
    {
      "cell_type": "code",
      "source": [
        "# 학습을 진행하지 않을 것이므로 torch.no_grad() \n",
        "with torch.no_grad(): \n",
        "    X_test = mnist_test.test_data.view(len(mnist_test), 1, 28, 28).float().to(device) \n",
        "    Y_test = mnist_test.test_labels.to(device) \n",
        "\n",
        "    prediction = model(X_test) \n",
        "    correct_prediction = torch.argmax(prediction, 1) == Y_test\n",
        "    accuracy = correct_prediction.float().mean()\n",
        "    print('Accuracy:', accuracy.item())"
      ],
      "metadata": {
        "colab": {
          "base_uri": "https://localhost:8080/"
        },
        "id": "MsOaudQbnUzr",
        "outputId": "5cd09323-ab28-47f4-f9f2-d81a79d7a32a"
      },
      "execution_count": null,
      "outputs": [
        {
          "output_type": "stream",
          "name": "stdout",
          "text": [
            "Accuracy: 0.9871999621391296\n"
          ]
        },
        {
          "output_type": "stream",
          "name": "stderr",
          "text": [
            "/usr/local/lib/python3.7/dist-packages/torchvision/datasets/mnist.py:80: UserWarning: test_data has been renamed data\n",
            "  warnings.warn(\"test_data has been renamed data\")\n",
            "/usr/local/lib/python3.7/dist-packages/torchvision/datasets/mnist.py:70: UserWarning: test_labels has been renamed targets\n",
            "  warnings.warn(\"test_labels has been renamed targets\")\n"
          ]
        }
      ]
    },
    {
      "cell_type": "markdown",
      "source": [
        "####**03. 깊은 CNN으로 MNIST 분류하기**"
      ],
      "metadata": {
        "id": "QvwEHt_7pwE4"
      }
    },
    {
      "cell_type": "code",
      "source": [
        "# 2. 깊은 CNN으로 MNIST 분류하기 \n",
        "import torch\n",
        "import torchvision.datasets as dsets \n",
        "import torchvision.transforms as transforms\n",
        "import torch.nn.init "
      ],
      "metadata": {
        "id": "RLJYo10mo6s7"
      },
      "execution_count": null,
      "outputs": []
    },
    {
      "cell_type": "code",
      "source": [
        "device = 'cuda' if torch.cuda.is_available() else 'cpu' \n",
        "\n",
        "# 랜덤 시드 고정 \n",
        "torch.manual_seed(777) \n",
        "\n",
        "# GPU 사용 가능일 경우 랜덤 시드 고정 \n",
        "if device == 'cuda': \n",
        "    torch.cuda.manual_seed_all(777) "
      ],
      "metadata": {
        "id": "iqLl1rGHrM6r"
      },
      "execution_count": null,
      "outputs": []
    },
    {
      "cell_type": "code",
      "source": [
        "learning_rate = 0.001\n",
        "training_epochs = 15\n",
        "batch_size = 100 "
      ],
      "metadata": {
        "id": "06wBa_xSre9w"
      },
      "execution_count": null,
      "outputs": []
    },
    {
      "cell_type": "code",
      "source": [
        "mnist_train = dsets.MNIST(root='MNIST_data/', # 다운로드 경로 지정 \n",
        "                          train=True, #True를 지정하면 훈련 데이터로 다운로드 \n",
        "                          transform=transforms.ToTensor(), #텐서로 변환\n",
        "                          download=True) \n",
        "\n",
        "mnist_test = dsets.MNIST(root='MNIST_data/', # 다운로드 경로 지정\n",
        "                         train=False, # False를 지정하면 테스트 데이터로 다운로드\n",
        "                         transform=transforms.ToTensor(), # 텐서로 변환\n",
        "                         download = True) "
      ],
      "metadata": {
        "id": "4yeqnFMCrjM_"
      },
      "execution_count": null,
      "outputs": []
    },
    {
      "cell_type": "code",
      "source": [
        "data_loader =torch.utils.data.DataLoader(dataset=mnist_train,\n",
        "                                         batch_size=batch_size,\n",
        "                                         shuffle=True,\n",
        "                                         drop_last=True)"
      ],
      "metadata": {
        "id": "1cX0kI4bsBHg"
      },
      "execution_count": null,
      "outputs": []
    },
    {
      "cell_type": "code",
      "source": [
        "class CNN(torch.nn.Module): \n",
        "\n",
        "    def __init__(self):\n",
        "        super(CNN, self).__init__()\n",
        "        self.keep_prob = 0.5\n",
        "        # L1 ImgIn shape=(?, 28, 28, 1)\n",
        "        # Conv -> (?, 28, 28, 32)\n",
        "        # Pool -> (?, 14, 14, 32) \n",
        "        self.layer1 = torch.nn.Sequential(\n",
        "            torch.nn.Conv2d(1, 32, kernel_size=3, stride=1, padding=1),\n",
        "            torch.nn.ReLU(),\n",
        "            torch.nn.MaxPool2d(kernel_size=2, stride=2))\n",
        "        # L2 ImgIn shape=(?, 14, 14, 32) \n",
        "        # Conv -> (?, 14,14,64)\n",
        "        # Pool -> (?, 7, 7, 64) \n",
        "        self.layer2 = torch.nn.Sequential(\n",
        "            torch.nn.Conv2d(32, 64, kernel_size=3, stride=1, padding=1),\n",
        "            torch.nn.ReLU(),\n",
        "            torch.nn.MaxPool2d(kernel_size=3, stride=1, padding=1), \n",
        "            torch.nn.ReLU(),\n",
        "            torch.nn.MaxPool2d(kernel_size=2, stride=2)\n",
        "        )\n",
        "        # L3 ImgIn shape=(?, 7, 7, 64) \n",
        "        # Conv -> (?, 7, 7, 128) \n",
        "        # Pool -> (?, 4, 4,  128)\n",
        "        self.layer3 = torch.nn.Sequential(\n",
        "            torch.nn.Conv2d(64, 128, kernel_size=3, stride=1, padding=1),\n",
        "            torch.nn.ReLU(),\n",
        "            torch.nn.MaxPool2d(kernel_size=2, stride=2, padding=1)\n",
        "        )\n",
        "\n",
        "        # L4 FC 4x4x128 inputs -> 625 outputs \n",
        "        self.fc1 = torch.nn.Linear(4*4*128, 625, bias=True)\n",
        "        torch.nn.init.xavier_uniform_(self.fc1.weight)\n",
        "        self.layer4 = torch.nn.Sequential(\n",
        "            self.fc1,\n",
        "            torch.nn.ReLU(),\n",
        "            torch.nn.Dropout(p=1 - self.keep_prob)\n",
        "        )\n",
        "        # L5 Final FC 625 inputs -> 10 outputs \n",
        "        self.fc2 = torch.nn.Linear(625, 10, bias=True) \n",
        "        torch.nn.init.xavier_uniform_(self.fc2.weight) \n",
        "\n",
        "    def forward(self, x): \n",
        "        out = self.layer1(x) \n",
        "        out = self.layer2(out) \n",
        "        out = self.layer3(out) \n",
        "        out = out.view(out.size(0), -1) #Flatten them for FC\n",
        "        out = self.layer4(out) \n",
        "        out = self.fc2(out)\n",
        "        return out "
      ],
      "metadata": {
        "id": "Mp4Ge-sftC-L"
      },
      "execution_count": null,
      "outputs": []
    },
    {
      "cell_type": "code",
      "source": [
        "# CNN 모델 정의 \n",
        "model = CNN().to(device) "
      ],
      "metadata": {
        "id": "cj5DHh6ivpWm"
      },
      "execution_count": null,
      "outputs": []
    },
    {
      "cell_type": "code",
      "source": [
        "criterion = torch.nn.CrossEntropyLoss().to(device) # 비용 함수에 소프트맥수 함수 포함되어져 있음 \n",
        "optimizer = torch.optim.Adam(model.parameters(), lr=learning_rate) "
      ],
      "metadata": {
        "id": "CrNuG0Fmv_h8"
      },
      "execution_count": null,
      "outputs": []
    },
    {
      "cell_type": "code",
      "source": [
        "total_batch = len(data_loader)\n",
        "print('총 배치의 수: {}'.format(total_batch))"
      ],
      "metadata": {
        "colab": {
          "base_uri": "https://localhost:8080/"
        },
        "id": "_yVlRh7GwPj9",
        "outputId": "b72f6f67-1806-493d-8ca2-dd33ac09b294"
      },
      "execution_count": null,
      "outputs": [
        {
          "output_type": "stream",
          "name": "stdout",
          "text": [
            "총 배치의 수: 600\n"
          ]
        }
      ]
    },
    {
      "cell_type": "code",
      "source": [
        "for epoch in range(training_epochs): \n",
        "    avg_cost = 0 \n",
        "\n",
        "    for X, Y in data_loader: # 미니 배치 단위로 꺼내온다. X는 미니 배치, Y는 레이블 \n",
        "        # image is already size of (28x28), no reshape\n",
        "        # label is not one-hot encoded\n",
        "        X = X.to(device) \n",
        "        Y = Y.to(device) \n",
        "\n",
        "        optimizer.zero_grad() \n",
        "        hypothesis = model(X) \n",
        "        cost = criterion(hypothesis, Y) \n",
        "        cost.backward() \n",
        "        optimizer.step() \n",
        "\n",
        "        avg_cost += cost / total_batch\n",
        "\n",
        "    print('[Epoch: {:>4}] cost = {:>.9}'.format(epoch +1, avg_cost)) "
      ],
      "metadata": {
        "colab": {
          "base_uri": "https://localhost:8080/"
        },
        "id": "qW5kAMrTwT5P",
        "outputId": "223d9833-2233-471e-c398-1e978d4e4443"
      },
      "execution_count": null,
      "outputs": [
        {
          "output_type": "stream",
          "name": "stdout",
          "text": [
            "[Epoch:    1] cost = 0.192275256\n",
            "[Epoch:    2] cost = 0.0507461615\n",
            "[Epoch:    3] cost = 0.0365138389\n",
            "[Epoch:    4] cost = 0.0306382105\n",
            "[Epoch:    5] cost = 0.0253912453\n",
            "[Epoch:    6] cost = 0.022565065\n",
            "[Epoch:    7] cost = 0.0180198587\n",
            "[Epoch:    8] cost = 0.0149448132\n",
            "[Epoch:    9] cost = 0.0136389593\n",
            "[Epoch:   10] cost = 0.0122815594\n",
            "[Epoch:   11] cost = 0.0125936382\n",
            "[Epoch:   12] cost = 0.0105269235\n",
            "[Epoch:   13] cost = 0.0106392689\n",
            "[Epoch:   14] cost = 0.00846891198\n",
            "[Epoch:   15] cost = 0.00759851513\n"
          ]
        }
      ]
    },
    {
      "cell_type": "code",
      "source": [
        "# 학습을 진행하지 않을 것이므로 torch.no_grad() \n",
        "with torch.no_grad(): \n",
        "    X_test = mnist_test.test_data.view(len(mnist_test), 1, 28, 28).float().to(device) \n",
        "    Y_test = mnist_test.test_labels.to(device) \n",
        "\n",
        "    prediction = model(X_test) \n",
        "    correct_prediction = torch.argmax(prediction, 1) == Y_test \n",
        "    accuracy = correct_prediction.float().mean() \n",
        "    print('Accuracy:', accuracy.item())"
      ],
      "metadata": {
        "colab": {
          "base_uri": "https://localhost:8080/"
        },
        "id": "y_VBq2tmxATC",
        "outputId": "5e650d71-1a29-4d93-89c7-e79a4d6c03b4"
      },
      "execution_count": null,
      "outputs": [
        {
          "output_type": "stream",
          "name": "stdout",
          "text": [
            "Accuracy: 0.9434999823570251\n"
          ]
        },
        {
          "output_type": "stream",
          "name": "stderr",
          "text": [
            "/usr/local/lib/python3.7/dist-packages/torchvision/datasets/mnist.py:80: UserWarning: test_data has been renamed data\n",
            "  warnings.warn(\"test_data has been renamed data\")\n",
            "/usr/local/lib/python3.7/dist-packages/torchvision/datasets/mnist.py:70: UserWarning: test_labels has been renamed targets\n",
            "  warnings.warn(\"test_labels has been renamed targets\")\n"
          ]
        }
      ]
    },
    {
      "cell_type": "code",
      "source": [],
      "metadata": {
        "id": "iq2H9GzKyX9x"
      },
      "execution_count": null,
      "outputs": []
    }
  ]
}